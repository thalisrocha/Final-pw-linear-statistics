{
  "nbformat": 4,
  "nbformat_minor": 0,
  "metadata": {
    "colab": {
      "provenance": [],
      "collapsed_sections": [
        "jak4Vtj246cM",
        "1Wx0_mNuYfle"
      ],
      "toc_visible": true,
      "mount_file_id": "1a8w1_iTY1evh6vxos9AlUpK-S7FFXIwM",
      "authorship_tag": "ABX9TyNPaHs49ugdTGIpjf3aosxg",
      "include_colab_link": true
    },
    "kernelspec": {
      "name": "python3",
      "display_name": "Python 3"
    },
    "language_info": {
      "name": "python"
    }
  },
  "cells": [
    {
      "cell_type": "markdown",
      "metadata": {
        "id": "view-in-github",
        "colab_type": "text"
      },
      "source": [
        "<a href=\"https://colab.research.google.com/github/thalisrocha/Final-pw-linear-statistics/blob/main/sd_tsia204_lab2_rochapestana_thalis.ipynb\" target=\"_parent\"><img src=\"https://colab.research.google.com/assets/colab-badge.svg\" alt=\"Open In Colab\"/></a>"
      ]
    },
    {
      "cell_type": "markdown",
      "source": [
        "# Initial Configurations\n"
      ],
      "metadata": {
        "id": "jak4Vtj246cM"
      }
    },
    {
      "cell_type": "code",
      "execution_count": null,
      "metadata": {
        "id": "myFRNfYZ29OD"
      },
      "outputs": [],
      "source": [
        "# Change here using YOUR own first and last names\n",
        "fn1 = \"Thalis\"\n",
        "ln1 = \"RochaPestana\"\n",
        "filename = \"_\".join(map(lambda s: s.strip().lower(),\n",
        "[\"SD-TSIA204_lab2\", ln1, fn1])) + \".ipynb\"\n"
      ]
    },
    {
      "cell_type": "code",
      "source": [
        "!pip install git+https://github.com/agramfort/check_notebook\n",
        "\n",
        "!cd ~/src/folder_with_notebooks\n",
        "!check_notebook *.ipynb"
      ],
      "metadata": {
        "colab": {
          "base_uri": "https://localhost:8080/"
        },
        "id": "m0Ppx7iA3ToM",
        "outputId": "a2df6404-ef3e-4f2a-c2c8-0e012e6d6a58"
      },
      "execution_count": null,
      "outputs": [
        {
          "output_type": "stream",
          "name": "stdout",
          "text": [
            "Looking in indexes: https://pypi.org/simple, https://us-python.pkg.dev/colab-wheels/public/simple/\n",
            "Collecting git+https://github.com/agramfort/check_notebook\n",
            "  Cloning https://github.com/agramfort/check_notebook to /tmp/pip-req-build-ndj77dms\n",
            "  Running command git clone --filter=blob:none --quiet https://github.com/agramfort/check_notebook /tmp/pip-req-build-ndj77dms\n",
            "  Resolved https://github.com/agramfort/check_notebook to commit 217a225954ff830c5c2cee9b14a61cad59eed2b5\n",
            "  Preparing metadata (setup.py) ... \u001b[?25l\u001b[?25hdone\n",
            "Building wheels for collected packages: check-notebook\n",
            "  Building wheel for check-notebook (setup.py) ... \u001b[?25l\u001b[?25hdone\n",
            "  Created wheel for check-notebook: filename=check_notebook-0.1-py3-none-any.whl size=15883 sha256=4fc0cfc93edceeb026d7c998dd4a15b5dadd98fad0a963287bbb98a952c16136\n",
            "  Stored in directory: /tmp/pip-ephem-wheel-cache-h5hbo8oc/wheels/4c/4c/32/150b8207186f8c86f01dfb54de5e477719191bc5d03e7dd324\n",
            "Successfully built check-notebook\n",
            "Installing collected packages: check-notebook\n",
            "Successfully installed check-notebook-0.1\n",
            "/bin/bash: line 0: cd: /root/src/folder_with_notebooks: No such file or directory\n",
            ".......\n",
            "----------------------------------------------------------------------\n",
            "Ran 7 tests in 0.000s\n",
            "\n",
            "OK\n"
          ]
        }
      ]
    },
    {
      "cell_type": "code",
      "source": [
        "!jupyter nbextension install https://github.com/kenkoooo/jupyter-autopep8/archive/master.zip --user\n",
        "!jupyter nbextension enable jupyter-autopep8-master/jupyter-autopep8"
      ],
      "metadata": {
        "colab": {
          "base_uri": "https://localhost:8080/"
        },
        "id": "e5kj83cJ4KYb",
        "outputId": "af2bae90-02f9-4543-a37a-78376ef89cb6"
      },
      "execution_count": null,
      "outputs": [
        {
          "output_type": "stream",
          "name": "stdout",
          "text": [
            "Downloading: https://github.com/kenkoooo/jupyter-autopep8/archive/master.zip -> /tmp/tmpv3p81exw/master.zip\n",
            "Extracting: /tmp/tmpv3p81exw/master.zip -> /root/.local/share/jupyter/nbextensions\n",
            "Enabling notebook extension jupyter-autopep8-master/jupyter-autopep8...\n",
            "Paths used for configuration of notebook: \n",
            "    \t/root/.jupyter/nbconfig/notebook.json\n",
            "Paths used for configuration of notebook: \n",
            "    \t\n",
            "      - Validating: \u001b[32mOK\u001b[0m\n",
            "Paths used for configuration of notebook: \n",
            "    \t/root/.jupyter/nbconfig/notebook.json\n"
          ]
        }
      ]
    },
    {
      "cell_type": "markdown",
      "source": [
        "# Importing data\n"
      ],
      "metadata": {
        "id": "U6EbiIkO5ACH"
      }
    },
    {
      "cell_type": "code",
      "source": [
        "import pandas as pd\n",
        "import numpy as np\n",
        "import matplotlib.pyplot as plt\n",
        "import sklearn.linear_model as lm\n",
        "import scipy as sp\n",
        "import seaborn as sns\n",
        "from scipy.stats import norm\n",
        "from scipy.stats import t\n",
        "from sklearn.feature_selection import SequentialFeatureSelector\n",
        "from sklearn.model_selection import train_test_split\n",
        "from sklearn.preprocessing import StandardScaler\n",
        "from sklearn.linear_model import LinearRegression\n",
        "from sklearn.linear_model import Lasso\n",
        "from sklearn.linear_model import Ridge\n",
        "from sklearn.linear_model import ElasticNet\n",
        "from sklearn.model_selection import KFold\n",
        "from sklearn.model_selection import TimeSeriesSplit\n",
        "from sklearn.decomposition import PCA\n",
        "import matplotlib.style as style\n",
        "style.use('tableau-colorblind10')\n",
        "\n",
        "from sklearn.metrics import r2_score\n",
        "from sklearn.metrics import mean_squared_error"
      ],
      "metadata": {
        "id": "d_4vN0Ao6fqI"
      },
      "execution_count": null,
      "outputs": []
    },
    {
      "cell_type": "code",
      "source": [
        "scaler = StandardScaler()\n",
        "scaler"
      ],
      "metadata": {
        "colab": {
          "base_uri": "https://localhost:8080/"
        },
        "id": "KXHC0k62L0MU",
        "outputId": "780dd4f9-d8fa-448d-b85d-0a2d0c9c5b27"
      },
      "execution_count": null,
      "outputs": [
        {
          "output_type": "execute_result",
          "data": {
            "text/plain": [
              "StandardScaler()"
            ]
          },
          "metadata": {},
          "execution_count": 6
        }
      ]
    },
    {
      "cell_type": "code",
      "source": [
        "df = pd.read_csv(\"/content/drive/MyDrive/SD/SD-TSIA-204/meatspec.csv\", sep = \",\", engine= \"python\")\n",
        "df.head()"
      ],
      "metadata": {
        "colab": {
          "base_uri": "https://localhost:8080/",
          "height": 299
        },
        "id": "tdxbZr6y5GH4",
        "outputId": "70b4b321-1941-4782-8031-16438537e2de"
      },
      "execution_count": null,
      "outputs": [
        {
          "output_type": "execute_result",
          "data": {
            "text/plain": [
              "        V1       V2       V3       V4       V5       V6       V7       V8  \\\n",
              "0  2.61776  2.61814  2.61859  2.61912  2.61981  2.62071  2.62186  2.62334   \n",
              "1  2.83454  2.83871  2.84283  2.84705  2.85138  2.85587  2.86060  2.86566   \n",
              "2  2.58284  2.58458  2.58629  2.58808  2.58996  2.59192  2.59401  2.59627   \n",
              "3  2.82286  2.82460  2.82630  2.82814  2.83001  2.83192  2.83392  2.83606   \n",
              "4  2.78813  2.78989  2.79167  2.79350  2.79538  2.79746  2.79984  2.80254   \n",
              "\n",
              "        V9      V10  ...      V92      V93      V94      V95      V96  \\\n",
              "0  2.62511  2.62722  ...  2.98145  2.96072  2.94013  2.91978  2.89966   \n",
              "1  2.87093  2.87661  ...  3.29186  3.27921  3.26655  3.25369  3.24045   \n",
              "2  2.59873  2.60131  ...  2.68951  2.67009  2.65112  2.63262  2.61461   \n",
              "3  2.83842  2.84097  ...  2.97367  2.94951  2.92576  2.90251  2.87988   \n",
              "4  2.80553  2.80890  ...  3.30025  3.27907  3.25831  3.23784  3.21765   \n",
              "\n",
              "       V97      V98      V99     V100   fat  \n",
              "0  2.87964  2.85960  2.83940  2.81920  22.5  \n",
              "1  3.22659  3.21181  3.19600  3.17942  40.1  \n",
              "2  2.59718  2.58034  2.56404  2.54816   8.4  \n",
              "3  2.85794  2.83672  2.81617  2.79622   5.9  \n",
              "4  3.19766  3.17770  3.15770  3.13753  25.5  \n",
              "\n",
              "[5 rows x 101 columns]"
            ],
            "text/html": [
              "\n",
              "  <div id=\"df-9a4f2cbe-0532-4300-ae9c-3908f91f4d86\">\n",
              "    <div class=\"colab-df-container\">\n",
              "      <div>\n",
              "<style scoped>\n",
              "    .dataframe tbody tr th:only-of-type {\n",
              "        vertical-align: middle;\n",
              "    }\n",
              "\n",
              "    .dataframe tbody tr th {\n",
              "        vertical-align: top;\n",
              "    }\n",
              "\n",
              "    .dataframe thead th {\n",
              "        text-align: right;\n",
              "    }\n",
              "</style>\n",
              "<table border=\"1\" class=\"dataframe\">\n",
              "  <thead>\n",
              "    <tr style=\"text-align: right;\">\n",
              "      <th></th>\n",
              "      <th>V1</th>\n",
              "      <th>V2</th>\n",
              "      <th>V3</th>\n",
              "      <th>V4</th>\n",
              "      <th>V5</th>\n",
              "      <th>V6</th>\n",
              "      <th>V7</th>\n",
              "      <th>V8</th>\n",
              "      <th>V9</th>\n",
              "      <th>V10</th>\n",
              "      <th>...</th>\n",
              "      <th>V92</th>\n",
              "      <th>V93</th>\n",
              "      <th>V94</th>\n",
              "      <th>V95</th>\n",
              "      <th>V96</th>\n",
              "      <th>V97</th>\n",
              "      <th>V98</th>\n",
              "      <th>V99</th>\n",
              "      <th>V100</th>\n",
              "      <th>fat</th>\n",
              "    </tr>\n",
              "  </thead>\n",
              "  <tbody>\n",
              "    <tr>\n",
              "      <th>0</th>\n",
              "      <td>2.61776</td>\n",
              "      <td>2.61814</td>\n",
              "      <td>2.61859</td>\n",
              "      <td>2.61912</td>\n",
              "      <td>2.61981</td>\n",
              "      <td>2.62071</td>\n",
              "      <td>2.62186</td>\n",
              "      <td>2.62334</td>\n",
              "      <td>2.62511</td>\n",
              "      <td>2.62722</td>\n",
              "      <td>...</td>\n",
              "      <td>2.98145</td>\n",
              "      <td>2.96072</td>\n",
              "      <td>2.94013</td>\n",
              "      <td>2.91978</td>\n",
              "      <td>2.89966</td>\n",
              "      <td>2.87964</td>\n",
              "      <td>2.85960</td>\n",
              "      <td>2.83940</td>\n",
              "      <td>2.81920</td>\n",
              "      <td>22.5</td>\n",
              "    </tr>\n",
              "    <tr>\n",
              "      <th>1</th>\n",
              "      <td>2.83454</td>\n",
              "      <td>2.83871</td>\n",
              "      <td>2.84283</td>\n",
              "      <td>2.84705</td>\n",
              "      <td>2.85138</td>\n",
              "      <td>2.85587</td>\n",
              "      <td>2.86060</td>\n",
              "      <td>2.86566</td>\n",
              "      <td>2.87093</td>\n",
              "      <td>2.87661</td>\n",
              "      <td>...</td>\n",
              "      <td>3.29186</td>\n",
              "      <td>3.27921</td>\n",
              "      <td>3.26655</td>\n",
              "      <td>3.25369</td>\n",
              "      <td>3.24045</td>\n",
              "      <td>3.22659</td>\n",
              "      <td>3.21181</td>\n",
              "      <td>3.19600</td>\n",
              "      <td>3.17942</td>\n",
              "      <td>40.1</td>\n",
              "    </tr>\n",
              "    <tr>\n",
              "      <th>2</th>\n",
              "      <td>2.58284</td>\n",
              "      <td>2.58458</td>\n",
              "      <td>2.58629</td>\n",
              "      <td>2.58808</td>\n",
              "      <td>2.58996</td>\n",
              "      <td>2.59192</td>\n",
              "      <td>2.59401</td>\n",
              "      <td>2.59627</td>\n",
              "      <td>2.59873</td>\n",
              "      <td>2.60131</td>\n",
              "      <td>...</td>\n",
              "      <td>2.68951</td>\n",
              "      <td>2.67009</td>\n",
              "      <td>2.65112</td>\n",
              "      <td>2.63262</td>\n",
              "      <td>2.61461</td>\n",
              "      <td>2.59718</td>\n",
              "      <td>2.58034</td>\n",
              "      <td>2.56404</td>\n",
              "      <td>2.54816</td>\n",
              "      <td>8.4</td>\n",
              "    </tr>\n",
              "    <tr>\n",
              "      <th>3</th>\n",
              "      <td>2.82286</td>\n",
              "      <td>2.82460</td>\n",
              "      <td>2.82630</td>\n",
              "      <td>2.82814</td>\n",
              "      <td>2.83001</td>\n",
              "      <td>2.83192</td>\n",
              "      <td>2.83392</td>\n",
              "      <td>2.83606</td>\n",
              "      <td>2.83842</td>\n",
              "      <td>2.84097</td>\n",
              "      <td>...</td>\n",
              "      <td>2.97367</td>\n",
              "      <td>2.94951</td>\n",
              "      <td>2.92576</td>\n",
              "      <td>2.90251</td>\n",
              "      <td>2.87988</td>\n",
              "      <td>2.85794</td>\n",
              "      <td>2.83672</td>\n",
              "      <td>2.81617</td>\n",
              "      <td>2.79622</td>\n",
              "      <td>5.9</td>\n",
              "    </tr>\n",
              "    <tr>\n",
              "      <th>4</th>\n",
              "      <td>2.78813</td>\n",
              "      <td>2.78989</td>\n",
              "      <td>2.79167</td>\n",
              "      <td>2.79350</td>\n",
              "      <td>2.79538</td>\n",
              "      <td>2.79746</td>\n",
              "      <td>2.79984</td>\n",
              "      <td>2.80254</td>\n",
              "      <td>2.80553</td>\n",
              "      <td>2.80890</td>\n",
              "      <td>...</td>\n",
              "      <td>3.30025</td>\n",
              "      <td>3.27907</td>\n",
              "      <td>3.25831</td>\n",
              "      <td>3.23784</td>\n",
              "      <td>3.21765</td>\n",
              "      <td>3.19766</td>\n",
              "      <td>3.17770</td>\n",
              "      <td>3.15770</td>\n",
              "      <td>3.13753</td>\n",
              "      <td>25.5</td>\n",
              "    </tr>\n",
              "  </tbody>\n",
              "</table>\n",
              "<p>5 rows × 101 columns</p>\n",
              "</div>\n",
              "      <button class=\"colab-df-convert\" onclick=\"convertToInteractive('df-9a4f2cbe-0532-4300-ae9c-3908f91f4d86')\"\n",
              "              title=\"Convert this dataframe to an interactive table.\"\n",
              "              style=\"display:none;\">\n",
              "        \n",
              "  <svg xmlns=\"http://www.w3.org/2000/svg\" height=\"24px\"viewBox=\"0 0 24 24\"\n",
              "       width=\"24px\">\n",
              "    <path d=\"M0 0h24v24H0V0z\" fill=\"none\"/>\n",
              "    <path d=\"M18.56 5.44l.94 2.06.94-2.06 2.06-.94-2.06-.94-.94-2.06-.94 2.06-2.06.94zm-11 1L8.5 8.5l.94-2.06 2.06-.94-2.06-.94L8.5 2.5l-.94 2.06-2.06.94zm10 10l.94 2.06.94-2.06 2.06-.94-2.06-.94-.94-2.06-.94 2.06-2.06.94z\"/><path d=\"M17.41 7.96l-1.37-1.37c-.4-.4-.92-.59-1.43-.59-.52 0-1.04.2-1.43.59L10.3 9.45l-7.72 7.72c-.78.78-.78 2.05 0 2.83L4 21.41c.39.39.9.59 1.41.59.51 0 1.02-.2 1.41-.59l7.78-7.78 2.81-2.81c.8-.78.8-2.07 0-2.86zM5.41 20L4 18.59l7.72-7.72 1.47 1.35L5.41 20z\"/>\n",
              "  </svg>\n",
              "      </button>\n",
              "      \n",
              "  <style>\n",
              "    .colab-df-container {\n",
              "      display:flex;\n",
              "      flex-wrap:wrap;\n",
              "      gap: 12px;\n",
              "    }\n",
              "\n",
              "    .colab-df-convert {\n",
              "      background-color: #E8F0FE;\n",
              "      border: none;\n",
              "      border-radius: 50%;\n",
              "      cursor: pointer;\n",
              "      display: none;\n",
              "      fill: #1967D2;\n",
              "      height: 32px;\n",
              "      padding: 0 0 0 0;\n",
              "      width: 32px;\n",
              "    }\n",
              "\n",
              "    .colab-df-convert:hover {\n",
              "      background-color: #E2EBFA;\n",
              "      box-shadow: 0px 1px 2px rgba(60, 64, 67, 0.3), 0px 1px 3px 1px rgba(60, 64, 67, 0.15);\n",
              "      fill: #174EA6;\n",
              "    }\n",
              "\n",
              "    [theme=dark] .colab-df-convert {\n",
              "      background-color: #3B4455;\n",
              "      fill: #D2E3FC;\n",
              "    }\n",
              "\n",
              "    [theme=dark] .colab-df-convert:hover {\n",
              "      background-color: #434B5C;\n",
              "      box-shadow: 0px 1px 3px 1px rgba(0, 0, 0, 0.15);\n",
              "      filter: drop-shadow(0px 1px 2px rgba(0, 0, 0, 0.3));\n",
              "      fill: #FFFFFF;\n",
              "    }\n",
              "  </style>\n",
              "\n",
              "      <script>\n",
              "        const buttonEl =\n",
              "          document.querySelector('#df-9a4f2cbe-0532-4300-ae9c-3908f91f4d86 button.colab-df-convert');\n",
              "        buttonEl.style.display =\n",
              "          google.colab.kernel.accessAllowed ? 'block' : 'none';\n",
              "\n",
              "        async function convertToInteractive(key) {\n",
              "          const element = document.querySelector('#df-9a4f2cbe-0532-4300-ae9c-3908f91f4d86');\n",
              "          const dataTable =\n",
              "            await google.colab.kernel.invokeFunction('convertToInteractive',\n",
              "                                                     [key], {});\n",
              "          if (!dataTable) return;\n",
              "\n",
              "          const docLinkHtml = 'Like what you see? Visit the ' +\n",
              "            '<a target=\"_blank\" href=https://colab.research.google.com/notebooks/data_table.ipynb>data table notebook</a>'\n",
              "            + ' to learn more about interactive tables.';\n",
              "          element.innerHTML = '';\n",
              "          dataTable['output_type'] = 'display_data';\n",
              "          await google.colab.output.renderOutput(dataTable, element);\n",
              "          const docLink = document.createElement('div');\n",
              "          docLink.innerHTML = docLinkHtml;\n",
              "          element.appendChild(docLink);\n",
              "        }\n",
              "      </script>\n",
              "    </div>\n",
              "  </div>\n",
              "  "
            ]
          },
          "metadata": {},
          "execution_count": 7
        }
      ]
    },
    {
      "cell_type": "markdown",
      "source": [
        "# 1"
      ],
      "metadata": {
        "id": "4JbCNUps96ee"
      }
    },
    {
      "cell_type": "markdown",
      "source": [
        "## a)\n",
        "\n",
        "Set the random seed to 0."
      ],
      "metadata": {
        "id": "C46Ot0kW99fo"
      }
    },
    {
      "cell_type": "code",
      "source": [
        "y = df[[\"fat\"]]\n",
        "X = df.drop(y, axis=1)"
      ],
      "metadata": {
        "id": "Kx_QFYFg6uZa"
      },
      "execution_count": null,
      "outputs": []
    },
    {
      "cell_type": "markdown",
      "source": [
        "## b)\n",
        "Load the data. Print the mean, and standard deviation of every covariate. Is the data centered? Normalized? Standardized?\n"
      ],
      "metadata": {
        "id": "dLQK3YQi-Ax5"
      }
    },
    {
      "cell_type": "markdown",
      "source": [
        "**Answer:** As it is possible to verify, the data **is not Centered** (because the means of the covariates are not equal to 0). The data **is not Normalized or Standardized** because it is not in the range from 0 to 1 and it does not have mean equal to 0 and standard deviation equal to 1."
      ],
      "metadata": {
        "id": "VDxV4Kb2Gbb6"
      }
    },
    {
      "cell_type": "code",
      "source": [
        "X.describe()"
      ],
      "metadata": {
        "colab": {
          "base_uri": "https://localhost:8080/",
          "height": 393
        },
        "id": "SxMVgvMEHpnA",
        "outputId": "8bf064f3-af27-4f3e-84ca-9d4bc2903779"
      },
      "execution_count": null,
      "outputs": [
        {
          "output_type": "execute_result",
          "data": {
            "text/plain": [
              "               V1          V2          V3          V4          V5          V6  \\\n",
              "count  215.000000  215.000000  215.000000  215.000000  215.000000  215.000000   \n",
              "mean     2.808561    2.811137    2.813727    2.816363    2.819098    2.821983   \n",
              "std      0.410793    0.413352    0.415906    0.418465    0.421040    0.423635   \n",
              "min      2.066420    2.065830    2.065180    2.064650    2.064170    2.063730   \n",
              "25%      2.512265    2.513260    2.514210    2.515330    2.516775    2.518240   \n",
              "50%      2.753600    2.755180    2.756680    2.758240    2.759860    2.761610   \n",
              "75%      3.006155    3.010470    3.014840    3.019260    3.025895    3.032780   \n",
              "max      4.237280    4.247210    4.257370    4.267730    4.278470    4.289680   \n",
              "\n",
              "               V7          V8          V9         V10  ...         V91  \\\n",
              "count  215.000000  215.000000  215.000000  215.000000  ...  215.000000   \n",
              "mean     2.825064    2.828375    2.831943    2.835813  ...    3.198627   \n",
              "std      0.426245    0.428866    0.431510    0.434195  ...    0.542146   \n",
              "min      2.063400    2.063140    2.063010    2.063170  ...    2.358810   \n",
              "25%      2.518305    2.518605    2.519185    2.521480  ...    2.798680   \n",
              "50%      2.763550    2.765680    2.768660    2.770720  ...    3.093290   \n",
              "75%      3.039780    3.046930    3.054310    3.061875  ...    3.507110   \n",
              "max      4.301330    4.313310    4.325870    4.339270  ...    5.144620   \n",
              "\n",
              "              V92         V93         V94         V95         V96         V97  \\\n",
              "count  215.000000  215.000000  215.000000  215.000000  215.000000  215.000000   \n",
              "mean     3.178262    3.158254    3.138534    3.119104    3.099971    3.081070   \n",
              "std      0.541957    0.541776    0.541519    0.541135    0.540563    0.539730   \n",
              "min      2.339720    2.320940    2.300430    2.280180    2.260580    2.241710   \n",
              "25%      2.781960    2.763715    2.741450    2.722130    2.702475    2.682635   \n",
              "50%      3.079400    3.058200    3.036290    3.014480    2.993020    2.971850   \n",
              "75%      3.493140    3.477830    3.462340    3.446320    3.429490    3.411360   \n",
              "max      5.128190    5.111870    5.095180    5.077600    5.058950    5.038260   \n",
              "\n",
              "              V98         V99        V100  \n",
              "count  215.000000  215.000000  215.000000  \n",
              "mean     3.062290    3.043548    3.024895  \n",
              "std      0.538586    0.537108    0.535354  \n",
              "min      2.223520    2.206020    2.189130  \n",
              "25%      2.664900    2.647370    2.628230  \n",
              "50%      2.953740    2.935140    2.915640  \n",
              "75%      3.393100    3.375965    3.358195  \n",
              "max      5.015710    4.991070    4.965430  \n",
              "\n",
              "[8 rows x 100 columns]"
            ],
            "text/html": [
              "\n",
              "  <div id=\"df-d87101d8-defc-4f2f-83fb-4dd011cc6bf1\">\n",
              "    <div class=\"colab-df-container\">\n",
              "      <div>\n",
              "<style scoped>\n",
              "    .dataframe tbody tr th:only-of-type {\n",
              "        vertical-align: middle;\n",
              "    }\n",
              "\n",
              "    .dataframe tbody tr th {\n",
              "        vertical-align: top;\n",
              "    }\n",
              "\n",
              "    .dataframe thead th {\n",
              "        text-align: right;\n",
              "    }\n",
              "</style>\n",
              "<table border=\"1\" class=\"dataframe\">\n",
              "  <thead>\n",
              "    <tr style=\"text-align: right;\">\n",
              "      <th></th>\n",
              "      <th>V1</th>\n",
              "      <th>V2</th>\n",
              "      <th>V3</th>\n",
              "      <th>V4</th>\n",
              "      <th>V5</th>\n",
              "      <th>V6</th>\n",
              "      <th>V7</th>\n",
              "      <th>V8</th>\n",
              "      <th>V9</th>\n",
              "      <th>V10</th>\n",
              "      <th>...</th>\n",
              "      <th>V91</th>\n",
              "      <th>V92</th>\n",
              "      <th>V93</th>\n",
              "      <th>V94</th>\n",
              "      <th>V95</th>\n",
              "      <th>V96</th>\n",
              "      <th>V97</th>\n",
              "      <th>V98</th>\n",
              "      <th>V99</th>\n",
              "      <th>V100</th>\n",
              "    </tr>\n",
              "  </thead>\n",
              "  <tbody>\n",
              "    <tr>\n",
              "      <th>count</th>\n",
              "      <td>215.000000</td>\n",
              "      <td>215.000000</td>\n",
              "      <td>215.000000</td>\n",
              "      <td>215.000000</td>\n",
              "      <td>215.000000</td>\n",
              "      <td>215.000000</td>\n",
              "      <td>215.000000</td>\n",
              "      <td>215.000000</td>\n",
              "      <td>215.000000</td>\n",
              "      <td>215.000000</td>\n",
              "      <td>...</td>\n",
              "      <td>215.000000</td>\n",
              "      <td>215.000000</td>\n",
              "      <td>215.000000</td>\n",
              "      <td>215.000000</td>\n",
              "      <td>215.000000</td>\n",
              "      <td>215.000000</td>\n",
              "      <td>215.000000</td>\n",
              "      <td>215.000000</td>\n",
              "      <td>215.000000</td>\n",
              "      <td>215.000000</td>\n",
              "    </tr>\n",
              "    <tr>\n",
              "      <th>mean</th>\n",
              "      <td>2.808561</td>\n",
              "      <td>2.811137</td>\n",
              "      <td>2.813727</td>\n",
              "      <td>2.816363</td>\n",
              "      <td>2.819098</td>\n",
              "      <td>2.821983</td>\n",
              "      <td>2.825064</td>\n",
              "      <td>2.828375</td>\n",
              "      <td>2.831943</td>\n",
              "      <td>2.835813</td>\n",
              "      <td>...</td>\n",
              "      <td>3.198627</td>\n",
              "      <td>3.178262</td>\n",
              "      <td>3.158254</td>\n",
              "      <td>3.138534</td>\n",
              "      <td>3.119104</td>\n",
              "      <td>3.099971</td>\n",
              "      <td>3.081070</td>\n",
              "      <td>3.062290</td>\n",
              "      <td>3.043548</td>\n",
              "      <td>3.024895</td>\n",
              "    </tr>\n",
              "    <tr>\n",
              "      <th>std</th>\n",
              "      <td>0.410793</td>\n",
              "      <td>0.413352</td>\n",
              "      <td>0.415906</td>\n",
              "      <td>0.418465</td>\n",
              "      <td>0.421040</td>\n",
              "      <td>0.423635</td>\n",
              "      <td>0.426245</td>\n",
              "      <td>0.428866</td>\n",
              "      <td>0.431510</td>\n",
              "      <td>0.434195</td>\n",
              "      <td>...</td>\n",
              "      <td>0.542146</td>\n",
              "      <td>0.541957</td>\n",
              "      <td>0.541776</td>\n",
              "      <td>0.541519</td>\n",
              "      <td>0.541135</td>\n",
              "      <td>0.540563</td>\n",
              "      <td>0.539730</td>\n",
              "      <td>0.538586</td>\n",
              "      <td>0.537108</td>\n",
              "      <td>0.535354</td>\n",
              "    </tr>\n",
              "    <tr>\n",
              "      <th>min</th>\n",
              "      <td>2.066420</td>\n",
              "      <td>2.065830</td>\n",
              "      <td>2.065180</td>\n",
              "      <td>2.064650</td>\n",
              "      <td>2.064170</td>\n",
              "      <td>2.063730</td>\n",
              "      <td>2.063400</td>\n",
              "      <td>2.063140</td>\n",
              "      <td>2.063010</td>\n",
              "      <td>2.063170</td>\n",
              "      <td>...</td>\n",
              "      <td>2.358810</td>\n",
              "      <td>2.339720</td>\n",
              "      <td>2.320940</td>\n",
              "      <td>2.300430</td>\n",
              "      <td>2.280180</td>\n",
              "      <td>2.260580</td>\n",
              "      <td>2.241710</td>\n",
              "      <td>2.223520</td>\n",
              "      <td>2.206020</td>\n",
              "      <td>2.189130</td>\n",
              "    </tr>\n",
              "    <tr>\n",
              "      <th>25%</th>\n",
              "      <td>2.512265</td>\n",
              "      <td>2.513260</td>\n",
              "      <td>2.514210</td>\n",
              "      <td>2.515330</td>\n",
              "      <td>2.516775</td>\n",
              "      <td>2.518240</td>\n",
              "      <td>2.518305</td>\n",
              "      <td>2.518605</td>\n",
              "      <td>2.519185</td>\n",
              "      <td>2.521480</td>\n",
              "      <td>...</td>\n",
              "      <td>2.798680</td>\n",
              "      <td>2.781960</td>\n",
              "      <td>2.763715</td>\n",
              "      <td>2.741450</td>\n",
              "      <td>2.722130</td>\n",
              "      <td>2.702475</td>\n",
              "      <td>2.682635</td>\n",
              "      <td>2.664900</td>\n",
              "      <td>2.647370</td>\n",
              "      <td>2.628230</td>\n",
              "    </tr>\n",
              "    <tr>\n",
              "      <th>50%</th>\n",
              "      <td>2.753600</td>\n",
              "      <td>2.755180</td>\n",
              "      <td>2.756680</td>\n",
              "      <td>2.758240</td>\n",
              "      <td>2.759860</td>\n",
              "      <td>2.761610</td>\n",
              "      <td>2.763550</td>\n",
              "      <td>2.765680</td>\n",
              "      <td>2.768660</td>\n",
              "      <td>2.770720</td>\n",
              "      <td>...</td>\n",
              "      <td>3.093290</td>\n",
              "      <td>3.079400</td>\n",
              "      <td>3.058200</td>\n",
              "      <td>3.036290</td>\n",
              "      <td>3.014480</td>\n",
              "      <td>2.993020</td>\n",
              "      <td>2.971850</td>\n",
              "      <td>2.953740</td>\n",
              "      <td>2.935140</td>\n",
              "      <td>2.915640</td>\n",
              "    </tr>\n",
              "    <tr>\n",
              "      <th>75%</th>\n",
              "      <td>3.006155</td>\n",
              "      <td>3.010470</td>\n",
              "      <td>3.014840</td>\n",
              "      <td>3.019260</td>\n",
              "      <td>3.025895</td>\n",
              "      <td>3.032780</td>\n",
              "      <td>3.039780</td>\n",
              "      <td>3.046930</td>\n",
              "      <td>3.054310</td>\n",
              "      <td>3.061875</td>\n",
              "      <td>...</td>\n",
              "      <td>3.507110</td>\n",
              "      <td>3.493140</td>\n",
              "      <td>3.477830</td>\n",
              "      <td>3.462340</td>\n",
              "      <td>3.446320</td>\n",
              "      <td>3.429490</td>\n",
              "      <td>3.411360</td>\n",
              "      <td>3.393100</td>\n",
              "      <td>3.375965</td>\n",
              "      <td>3.358195</td>\n",
              "    </tr>\n",
              "    <tr>\n",
              "      <th>max</th>\n",
              "      <td>4.237280</td>\n",
              "      <td>4.247210</td>\n",
              "      <td>4.257370</td>\n",
              "      <td>4.267730</td>\n",
              "      <td>4.278470</td>\n",
              "      <td>4.289680</td>\n",
              "      <td>4.301330</td>\n",
              "      <td>4.313310</td>\n",
              "      <td>4.325870</td>\n",
              "      <td>4.339270</td>\n",
              "      <td>...</td>\n",
              "      <td>5.144620</td>\n",
              "      <td>5.128190</td>\n",
              "      <td>5.111870</td>\n",
              "      <td>5.095180</td>\n",
              "      <td>5.077600</td>\n",
              "      <td>5.058950</td>\n",
              "      <td>5.038260</td>\n",
              "      <td>5.015710</td>\n",
              "      <td>4.991070</td>\n",
              "      <td>4.965430</td>\n",
              "    </tr>\n",
              "  </tbody>\n",
              "</table>\n",
              "<p>8 rows × 100 columns</p>\n",
              "</div>\n",
              "      <button class=\"colab-df-convert\" onclick=\"convertToInteractive('df-d87101d8-defc-4f2f-83fb-4dd011cc6bf1')\"\n",
              "              title=\"Convert this dataframe to an interactive table.\"\n",
              "              style=\"display:none;\">\n",
              "        \n",
              "  <svg xmlns=\"http://www.w3.org/2000/svg\" height=\"24px\"viewBox=\"0 0 24 24\"\n",
              "       width=\"24px\">\n",
              "    <path d=\"M0 0h24v24H0V0z\" fill=\"none\"/>\n",
              "    <path d=\"M18.56 5.44l.94 2.06.94-2.06 2.06-.94-2.06-.94-.94-2.06-.94 2.06-2.06.94zm-11 1L8.5 8.5l.94-2.06 2.06-.94-2.06-.94L8.5 2.5l-.94 2.06-2.06.94zm10 10l.94 2.06.94-2.06 2.06-.94-2.06-.94-.94-2.06-.94 2.06-2.06.94z\"/><path d=\"M17.41 7.96l-1.37-1.37c-.4-.4-.92-.59-1.43-.59-.52 0-1.04.2-1.43.59L10.3 9.45l-7.72 7.72c-.78.78-.78 2.05 0 2.83L4 21.41c.39.39.9.59 1.41.59.51 0 1.02-.2 1.41-.59l7.78-7.78 2.81-2.81c.8-.78.8-2.07 0-2.86zM5.41 20L4 18.59l7.72-7.72 1.47 1.35L5.41 20z\"/>\n",
              "  </svg>\n",
              "      </button>\n",
              "      \n",
              "  <style>\n",
              "    .colab-df-container {\n",
              "      display:flex;\n",
              "      flex-wrap:wrap;\n",
              "      gap: 12px;\n",
              "    }\n",
              "\n",
              "    .colab-df-convert {\n",
              "      background-color: #E8F0FE;\n",
              "      border: none;\n",
              "      border-radius: 50%;\n",
              "      cursor: pointer;\n",
              "      display: none;\n",
              "      fill: #1967D2;\n",
              "      height: 32px;\n",
              "      padding: 0 0 0 0;\n",
              "      width: 32px;\n",
              "    }\n",
              "\n",
              "    .colab-df-convert:hover {\n",
              "      background-color: #E2EBFA;\n",
              "      box-shadow: 0px 1px 2px rgba(60, 64, 67, 0.3), 0px 1px 3px 1px rgba(60, 64, 67, 0.15);\n",
              "      fill: #174EA6;\n",
              "    }\n",
              "\n",
              "    [theme=dark] .colab-df-convert {\n",
              "      background-color: #3B4455;\n",
              "      fill: #D2E3FC;\n",
              "    }\n",
              "\n",
              "    [theme=dark] .colab-df-convert:hover {\n",
              "      background-color: #434B5C;\n",
              "      box-shadow: 0px 1px 3px 1px rgba(0, 0, 0, 0.15);\n",
              "      filter: drop-shadow(0px 1px 2px rgba(0, 0, 0, 0.3));\n",
              "      fill: #FFFFFF;\n",
              "    }\n",
              "  </style>\n",
              "\n",
              "      <script>\n",
              "        const buttonEl =\n",
              "          document.querySelector('#df-d87101d8-defc-4f2f-83fb-4dd011cc6bf1 button.colab-df-convert');\n",
              "        buttonEl.style.display =\n",
              "          google.colab.kernel.accessAllowed ? 'block' : 'none';\n",
              "\n",
              "        async function convertToInteractive(key) {\n",
              "          const element = document.querySelector('#df-d87101d8-defc-4f2f-83fb-4dd011cc6bf1');\n",
              "          const dataTable =\n",
              "            await google.colab.kernel.invokeFunction('convertToInteractive',\n",
              "                                                     [key], {});\n",
              "          if (!dataTable) return;\n",
              "\n",
              "          const docLinkHtml = 'Like what you see? Visit the ' +\n",
              "            '<a target=\"_blank\" href=https://colab.research.google.com/notebooks/data_table.ipynb>data table notebook</a>'\n",
              "            + ' to learn more about interactive tables.';\n",
              "          element.innerHTML = '';\n",
              "          dataTable['output_type'] = 'display_data';\n",
              "          await google.colab.output.renderOutput(dataTable, element);\n",
              "          const docLink = document.createElement('div');\n",
              "          docLink.innerHTML = docLinkHtml;\n",
              "          element.appendChild(docLink);\n",
              "        }\n",
              "      </script>\n",
              "    </div>\n",
              "  </div>\n",
              "  "
            ]
          },
          "metadata": {},
          "execution_count": 9
        }
      ]
    },
    {
      "cell_type": "markdown",
      "source": [
        "## c)\n",
        "\n",
        "Separate the data in train and test sets: save one fourth of the data as testing (you can use train_test_split from sklearn.model_selection) and standardize\n",
        "both the training and testing sets using the fit_transform and transform functions in sklearn.preprocessing.StandardScaler.\n"
      ],
      "metadata": {
        "id": "2fFtTR-9Jrb7"
      }
    },
    {
      "cell_type": "code",
      "source": [
        "X_traindf, X_testdf, y_traindf, y_testdf = train_test_split(X, y, random_state=0)\n",
        "\n",
        "y_traindf_array = np.array(y_traindf).reshape(-1,1)\n",
        "y_testdf_array = np.array(y_testdf).reshape(-1,1)\n",
        "\n",
        "X_train = scaler.fit_transform(X_traindf, y_traindf)\n",
        "X_test = scaler.transform(X_testdf)\n",
        "\n",
        "y_train = scaler.fit_transform(y_traindf_array)\n",
        "y_test = scaler.transform(y_testdf_array)\n",
        "\n",
        "X_train = pd.DataFrame(X_train, index=X_traindf.index, columns = X_traindf.columns)\n",
        "X_test = pd.DataFrame(X_test, index=X_testdf.index, columns = X_testdf.columns)\n",
        "y_train = pd.DataFrame(y_train, index=y_traindf.index, columns = y_traindf.columns)\n",
        "y_test = pd.DataFrame(y_test, index=y_testdf.index, columns = y_testdf.columns)\n"
      ],
      "metadata": {
        "id": "9O3li-w3-Nse"
      },
      "execution_count": null,
      "outputs": []
    },
    {
      "cell_type": "code",
      "source": [
        "X_train.describe()"
      ],
      "metadata": {
        "colab": {
          "base_uri": "https://localhost:8080/",
          "height": 393
        },
        "id": "8BkTN-wKMbUK",
        "outputId": "130fe323-a9f2-425f-e062-4fe731f3a0d0"
      },
      "execution_count": null,
      "outputs": [
        {
          "output_type": "execute_result",
          "data": {
            "text/plain": [
              "                 V1            V2            V3            V4            V5  \\\n",
              "count  1.610000e+02  1.610000e+02  1.610000e+02  1.610000e+02  1.610000e+02   \n",
              "mean  -4.413309e-17  9.654113e-18  1.461909e-16 -4.978764e-16 -9.695488e-16   \n",
              "std    1.003120e+00  1.003120e+00  1.003120e+00  1.003120e+00  1.003120e+00   \n",
              "min   -1.728379e+00 -1.725155e+00 -1.722144e+00 -1.718970e+00 -1.715868e+00   \n",
              "25%   -6.951314e-01 -6.913551e-01 -6.874920e-01 -6.839169e-01 -6.826686e-01   \n",
              "50%   -2.047058e-01 -2.064600e-01 -2.082710e-01 -2.100563e-01 -2.096814e-01   \n",
              "75%    4.943333e-01  4.936166e-01  4.928318e-01  4.921155e-01  5.009920e-01   \n",
              "max    3.420805e+00  3.417746e+00  3.415238e+00  3.413037e+00  3.411344e+00   \n",
              "\n",
              "                 V6            V7            V8            V9           V10  \\\n",
              "count  1.610000e+02  1.610000e+02  1.610000e+02  1.610000e+02  1.610000e+02   \n",
              "mean   6.399298e-16  2.758318e-18 -2.978984e-16 -2.041155e-16 -4.992556e-16   \n",
              "std    1.003120e+00  1.003120e+00  1.003120e+00  1.003120e+00  1.003120e+00   \n",
              "min   -1.712951e+00 -1.710172e+00 -1.707720e+00 -1.705466e+00 -1.703071e+00   \n",
              "25%   -6.828912e-01 -6.831309e-01 -6.833389e-01 -6.834423e-01 -6.861470e-01   \n",
              "50%   -2.092777e-01 -2.088319e-01 -2.082229e-01 -2.076415e-01 -2.068506e-01   \n",
              "75%    5.099344e-01  5.181839e-01  5.257000e-01  5.325583e-01  5.384968e-01   \n",
              "max    3.410190e+00  3.409433e+00  3.408775e+00  3.408630e+00  3.409288e+00   \n",
              "\n",
              "       ...           V91           V92           V93           V94  \\\n",
              "count  ...  1.610000e+02  1.610000e+02  1.610000e+02  1.610000e+02   \n",
              "mean   ...  2.872099e-16 -1.180905e-16 -2.723839e-17  3.616845e-16   \n",
              "std    ...  1.003120e+00  1.003120e+00  1.003120e+00  1.003120e+00   \n",
              "min    ... -1.476519e+00 -1.474628e+00 -1.472811e+00 -1.474849e+00   \n",
              "25%    ... -7.668882e-01 -7.684970e-01 -7.701116e-01 -7.716562e-01   \n",
              "50%    ... -1.962268e-01 -1.971198e-01 -1.952131e-01 -1.898143e-01   \n",
              "75%    ...  5.519996e-01  5.504754e-01  5.490854e-01  5.475408e-01   \n",
              "max    ...  3.533737e+00  3.541486e+00  3.548788e+00  3.555476e+00   \n",
              "\n",
              "                V95           V96           V97           V98           V99  \\\n",
              "count  1.610000e+02  1.610000e+02  1.610000e+02  1.610000e+02  1.610000e+02   \n",
              "mean   3.137587e-16  6.237247e-16 -9.481718e-17 -3.203097e-16  1.565346e-16   \n",
              "std    1.003120e+00  1.003120e+00  1.003120e+00  1.003120e+00  1.003120e+00   \n",
              "min   -1.477329e+00 -1.479726e+00 -1.482024e+00 -1.484244e+00 -1.486276e+00   \n",
              "25%   -7.730601e-01 -7.742044e-01 -7.751380e-01 -7.756372e-01 -7.757463e-01   \n",
              "50%   -1.918213e-01 -1.942895e-01 -1.973396e-01 -2.009600e-01 -2.052609e-01   \n",
              "75%    5.455876e-01  5.431792e-01  5.401710e-01  5.360391e-01  5.306937e-01   \n",
              "max    3.560998e+00  3.565404e+00  3.567641e+00  3.568526e+00  3.567899e+00   \n",
              "\n",
              "               V100  \n",
              "count  1.610000e+02  \n",
              "mean  -6.075196e-16  \n",
              "std    1.003120e+00  \n",
              "min   -1.488185e+00  \n",
              "25%   -7.754645e-01  \n",
              "50%   -2.102193e-01  \n",
              "75%    5.241516e-01  \n",
              "max    3.567193e+00  \n",
              "\n",
              "[8 rows x 100 columns]"
            ],
            "text/html": [
              "\n",
              "  <div id=\"df-a196df4e-46c2-4892-b815-7dfd58b2dac1\">\n",
              "    <div class=\"colab-df-container\">\n",
              "      <div>\n",
              "<style scoped>\n",
              "    .dataframe tbody tr th:only-of-type {\n",
              "        vertical-align: middle;\n",
              "    }\n",
              "\n",
              "    .dataframe tbody tr th {\n",
              "        vertical-align: top;\n",
              "    }\n",
              "\n",
              "    .dataframe thead th {\n",
              "        text-align: right;\n",
              "    }\n",
              "</style>\n",
              "<table border=\"1\" class=\"dataframe\">\n",
              "  <thead>\n",
              "    <tr style=\"text-align: right;\">\n",
              "      <th></th>\n",
              "      <th>V1</th>\n",
              "      <th>V2</th>\n",
              "      <th>V3</th>\n",
              "      <th>V4</th>\n",
              "      <th>V5</th>\n",
              "      <th>V6</th>\n",
              "      <th>V7</th>\n",
              "      <th>V8</th>\n",
              "      <th>V9</th>\n",
              "      <th>V10</th>\n",
              "      <th>...</th>\n",
              "      <th>V91</th>\n",
              "      <th>V92</th>\n",
              "      <th>V93</th>\n",
              "      <th>V94</th>\n",
              "      <th>V95</th>\n",
              "      <th>V96</th>\n",
              "      <th>V97</th>\n",
              "      <th>V98</th>\n",
              "      <th>V99</th>\n",
              "      <th>V100</th>\n",
              "    </tr>\n",
              "  </thead>\n",
              "  <tbody>\n",
              "    <tr>\n",
              "      <th>count</th>\n",
              "      <td>1.610000e+02</td>\n",
              "      <td>1.610000e+02</td>\n",
              "      <td>1.610000e+02</td>\n",
              "      <td>1.610000e+02</td>\n",
              "      <td>1.610000e+02</td>\n",
              "      <td>1.610000e+02</td>\n",
              "      <td>1.610000e+02</td>\n",
              "      <td>1.610000e+02</td>\n",
              "      <td>1.610000e+02</td>\n",
              "      <td>1.610000e+02</td>\n",
              "      <td>...</td>\n",
              "      <td>1.610000e+02</td>\n",
              "      <td>1.610000e+02</td>\n",
              "      <td>1.610000e+02</td>\n",
              "      <td>1.610000e+02</td>\n",
              "      <td>1.610000e+02</td>\n",
              "      <td>1.610000e+02</td>\n",
              "      <td>1.610000e+02</td>\n",
              "      <td>1.610000e+02</td>\n",
              "      <td>1.610000e+02</td>\n",
              "      <td>1.610000e+02</td>\n",
              "    </tr>\n",
              "    <tr>\n",
              "      <th>mean</th>\n",
              "      <td>-4.413309e-17</td>\n",
              "      <td>9.654113e-18</td>\n",
              "      <td>1.461909e-16</td>\n",
              "      <td>-4.978764e-16</td>\n",
              "      <td>-9.695488e-16</td>\n",
              "      <td>6.399298e-16</td>\n",
              "      <td>2.758318e-18</td>\n",
              "      <td>-2.978984e-16</td>\n",
              "      <td>-2.041155e-16</td>\n",
              "      <td>-4.992556e-16</td>\n",
              "      <td>...</td>\n",
              "      <td>2.872099e-16</td>\n",
              "      <td>-1.180905e-16</td>\n",
              "      <td>-2.723839e-17</td>\n",
              "      <td>3.616845e-16</td>\n",
              "      <td>3.137587e-16</td>\n",
              "      <td>6.237247e-16</td>\n",
              "      <td>-9.481718e-17</td>\n",
              "      <td>-3.203097e-16</td>\n",
              "      <td>1.565346e-16</td>\n",
              "      <td>-6.075196e-16</td>\n",
              "    </tr>\n",
              "    <tr>\n",
              "      <th>std</th>\n",
              "      <td>1.003120e+00</td>\n",
              "      <td>1.003120e+00</td>\n",
              "      <td>1.003120e+00</td>\n",
              "      <td>1.003120e+00</td>\n",
              "      <td>1.003120e+00</td>\n",
              "      <td>1.003120e+00</td>\n",
              "      <td>1.003120e+00</td>\n",
              "      <td>1.003120e+00</td>\n",
              "      <td>1.003120e+00</td>\n",
              "      <td>1.003120e+00</td>\n",
              "      <td>...</td>\n",
              "      <td>1.003120e+00</td>\n",
              "      <td>1.003120e+00</td>\n",
              "      <td>1.003120e+00</td>\n",
              "      <td>1.003120e+00</td>\n",
              "      <td>1.003120e+00</td>\n",
              "      <td>1.003120e+00</td>\n",
              "      <td>1.003120e+00</td>\n",
              "      <td>1.003120e+00</td>\n",
              "      <td>1.003120e+00</td>\n",
              "      <td>1.003120e+00</td>\n",
              "    </tr>\n",
              "    <tr>\n",
              "      <th>min</th>\n",
              "      <td>-1.728379e+00</td>\n",
              "      <td>-1.725155e+00</td>\n",
              "      <td>-1.722144e+00</td>\n",
              "      <td>-1.718970e+00</td>\n",
              "      <td>-1.715868e+00</td>\n",
              "      <td>-1.712951e+00</td>\n",
              "      <td>-1.710172e+00</td>\n",
              "      <td>-1.707720e+00</td>\n",
              "      <td>-1.705466e+00</td>\n",
              "      <td>-1.703071e+00</td>\n",
              "      <td>...</td>\n",
              "      <td>-1.476519e+00</td>\n",
              "      <td>-1.474628e+00</td>\n",
              "      <td>-1.472811e+00</td>\n",
              "      <td>-1.474849e+00</td>\n",
              "      <td>-1.477329e+00</td>\n",
              "      <td>-1.479726e+00</td>\n",
              "      <td>-1.482024e+00</td>\n",
              "      <td>-1.484244e+00</td>\n",
              "      <td>-1.486276e+00</td>\n",
              "      <td>-1.488185e+00</td>\n",
              "    </tr>\n",
              "    <tr>\n",
              "      <th>25%</th>\n",
              "      <td>-6.951314e-01</td>\n",
              "      <td>-6.913551e-01</td>\n",
              "      <td>-6.874920e-01</td>\n",
              "      <td>-6.839169e-01</td>\n",
              "      <td>-6.826686e-01</td>\n",
              "      <td>-6.828912e-01</td>\n",
              "      <td>-6.831309e-01</td>\n",
              "      <td>-6.833389e-01</td>\n",
              "      <td>-6.834423e-01</td>\n",
              "      <td>-6.861470e-01</td>\n",
              "      <td>...</td>\n",
              "      <td>-7.668882e-01</td>\n",
              "      <td>-7.684970e-01</td>\n",
              "      <td>-7.701116e-01</td>\n",
              "      <td>-7.716562e-01</td>\n",
              "      <td>-7.730601e-01</td>\n",
              "      <td>-7.742044e-01</td>\n",
              "      <td>-7.751380e-01</td>\n",
              "      <td>-7.756372e-01</td>\n",
              "      <td>-7.757463e-01</td>\n",
              "      <td>-7.754645e-01</td>\n",
              "    </tr>\n",
              "    <tr>\n",
              "      <th>50%</th>\n",
              "      <td>-2.047058e-01</td>\n",
              "      <td>-2.064600e-01</td>\n",
              "      <td>-2.082710e-01</td>\n",
              "      <td>-2.100563e-01</td>\n",
              "      <td>-2.096814e-01</td>\n",
              "      <td>-2.092777e-01</td>\n",
              "      <td>-2.088319e-01</td>\n",
              "      <td>-2.082229e-01</td>\n",
              "      <td>-2.076415e-01</td>\n",
              "      <td>-2.068506e-01</td>\n",
              "      <td>...</td>\n",
              "      <td>-1.962268e-01</td>\n",
              "      <td>-1.971198e-01</td>\n",
              "      <td>-1.952131e-01</td>\n",
              "      <td>-1.898143e-01</td>\n",
              "      <td>-1.918213e-01</td>\n",
              "      <td>-1.942895e-01</td>\n",
              "      <td>-1.973396e-01</td>\n",
              "      <td>-2.009600e-01</td>\n",
              "      <td>-2.052609e-01</td>\n",
              "      <td>-2.102193e-01</td>\n",
              "    </tr>\n",
              "    <tr>\n",
              "      <th>75%</th>\n",
              "      <td>4.943333e-01</td>\n",
              "      <td>4.936166e-01</td>\n",
              "      <td>4.928318e-01</td>\n",
              "      <td>4.921155e-01</td>\n",
              "      <td>5.009920e-01</td>\n",
              "      <td>5.099344e-01</td>\n",
              "      <td>5.181839e-01</td>\n",
              "      <td>5.257000e-01</td>\n",
              "      <td>5.325583e-01</td>\n",
              "      <td>5.384968e-01</td>\n",
              "      <td>...</td>\n",
              "      <td>5.519996e-01</td>\n",
              "      <td>5.504754e-01</td>\n",
              "      <td>5.490854e-01</td>\n",
              "      <td>5.475408e-01</td>\n",
              "      <td>5.455876e-01</td>\n",
              "      <td>5.431792e-01</td>\n",
              "      <td>5.401710e-01</td>\n",
              "      <td>5.360391e-01</td>\n",
              "      <td>5.306937e-01</td>\n",
              "      <td>5.241516e-01</td>\n",
              "    </tr>\n",
              "    <tr>\n",
              "      <th>max</th>\n",
              "      <td>3.420805e+00</td>\n",
              "      <td>3.417746e+00</td>\n",
              "      <td>3.415238e+00</td>\n",
              "      <td>3.413037e+00</td>\n",
              "      <td>3.411344e+00</td>\n",
              "      <td>3.410190e+00</td>\n",
              "      <td>3.409433e+00</td>\n",
              "      <td>3.408775e+00</td>\n",
              "      <td>3.408630e+00</td>\n",
              "      <td>3.409288e+00</td>\n",
              "      <td>...</td>\n",
              "      <td>3.533737e+00</td>\n",
              "      <td>3.541486e+00</td>\n",
              "      <td>3.548788e+00</td>\n",
              "      <td>3.555476e+00</td>\n",
              "      <td>3.560998e+00</td>\n",
              "      <td>3.565404e+00</td>\n",
              "      <td>3.567641e+00</td>\n",
              "      <td>3.568526e+00</td>\n",
              "      <td>3.567899e+00</td>\n",
              "      <td>3.567193e+00</td>\n",
              "    </tr>\n",
              "  </tbody>\n",
              "</table>\n",
              "<p>8 rows × 100 columns</p>\n",
              "</div>\n",
              "      <button class=\"colab-df-convert\" onclick=\"convertToInteractive('df-a196df4e-46c2-4892-b815-7dfd58b2dac1')\"\n",
              "              title=\"Convert this dataframe to an interactive table.\"\n",
              "              style=\"display:none;\">\n",
              "        \n",
              "  <svg xmlns=\"http://www.w3.org/2000/svg\" height=\"24px\"viewBox=\"0 0 24 24\"\n",
              "       width=\"24px\">\n",
              "    <path d=\"M0 0h24v24H0V0z\" fill=\"none\"/>\n",
              "    <path d=\"M18.56 5.44l.94 2.06.94-2.06 2.06-.94-2.06-.94-.94-2.06-.94 2.06-2.06.94zm-11 1L8.5 8.5l.94-2.06 2.06-.94-2.06-.94L8.5 2.5l-.94 2.06-2.06.94zm10 10l.94 2.06.94-2.06 2.06-.94-2.06-.94-.94-2.06-.94 2.06-2.06.94z\"/><path d=\"M17.41 7.96l-1.37-1.37c-.4-.4-.92-.59-1.43-.59-.52 0-1.04.2-1.43.59L10.3 9.45l-7.72 7.72c-.78.78-.78 2.05 0 2.83L4 21.41c.39.39.9.59 1.41.59.51 0 1.02-.2 1.41-.59l7.78-7.78 2.81-2.81c.8-.78.8-2.07 0-2.86zM5.41 20L4 18.59l7.72-7.72 1.47 1.35L5.41 20z\"/>\n",
              "  </svg>\n",
              "      </button>\n",
              "      \n",
              "  <style>\n",
              "    .colab-df-container {\n",
              "      display:flex;\n",
              "      flex-wrap:wrap;\n",
              "      gap: 12px;\n",
              "    }\n",
              "\n",
              "    .colab-df-convert {\n",
              "      background-color: #E8F0FE;\n",
              "      border: none;\n",
              "      border-radius: 50%;\n",
              "      cursor: pointer;\n",
              "      display: none;\n",
              "      fill: #1967D2;\n",
              "      height: 32px;\n",
              "      padding: 0 0 0 0;\n",
              "      width: 32px;\n",
              "    }\n",
              "\n",
              "    .colab-df-convert:hover {\n",
              "      background-color: #E2EBFA;\n",
              "      box-shadow: 0px 1px 2px rgba(60, 64, 67, 0.3), 0px 1px 3px 1px rgba(60, 64, 67, 0.15);\n",
              "      fill: #174EA6;\n",
              "    }\n",
              "\n",
              "    [theme=dark] .colab-df-convert {\n",
              "      background-color: #3B4455;\n",
              "      fill: #D2E3FC;\n",
              "    }\n",
              "\n",
              "    [theme=dark] .colab-df-convert:hover {\n",
              "      background-color: #434B5C;\n",
              "      box-shadow: 0px 1px 3px 1px rgba(0, 0, 0, 0.15);\n",
              "      filter: drop-shadow(0px 1px 2px rgba(0, 0, 0, 0.3));\n",
              "      fill: #FFFFFF;\n",
              "    }\n",
              "  </style>\n",
              "\n",
              "      <script>\n",
              "        const buttonEl =\n",
              "          document.querySelector('#df-a196df4e-46c2-4892-b815-7dfd58b2dac1 button.colab-df-convert');\n",
              "        buttonEl.style.display =\n",
              "          google.colab.kernel.accessAllowed ? 'block' : 'none';\n",
              "\n",
              "        async function convertToInteractive(key) {\n",
              "          const element = document.querySelector('#df-a196df4e-46c2-4892-b815-7dfd58b2dac1');\n",
              "          const dataTable =\n",
              "            await google.colab.kernel.invokeFunction('convertToInteractive',\n",
              "                                                     [key], {});\n",
              "          if (!dataTable) return;\n",
              "\n",
              "          const docLinkHtml = 'Like what you see? Visit the ' +\n",
              "            '<a target=\"_blank\" href=https://colab.research.google.com/notebooks/data_table.ipynb>data table notebook</a>'\n",
              "            + ' to learn more about interactive tables.';\n",
              "          element.innerHTML = '';\n",
              "          dataTable['output_type'] = 'display_data';\n",
              "          await google.colab.output.renderOutput(dataTable, element);\n",
              "          const docLink = document.createElement('div');\n",
              "          docLink.innerHTML = docLinkHtml;\n",
              "          element.appendChild(docLink);\n",
              "        }\n",
              "      </script>\n",
              "    </div>\n",
              "  </div>\n",
              "  "
            ]
          },
          "metadata": {},
          "execution_count": 11
        }
      ]
    },
    {
      "cell_type": "code",
      "source": [
        "X_test.describe()"
      ],
      "metadata": {
        "colab": {
          "base_uri": "https://localhost:8080/",
          "height": 393
        },
        "id": "4Gxoj2mKNKoi",
        "outputId": "9908ee5d-29b9-4e2a-bc5d-306e06ff4ad0"
      },
      "execution_count": null,
      "outputs": [
        {
          "output_type": "execute_result",
          "data": {
            "text/plain": [
              "              V1         V2         V3         V4         V5         V6  \\\n",
              "count  54.000000  54.000000  54.000000  54.000000  54.000000  54.000000   \n",
              "mean    0.127194   0.127440   0.127686   0.127895   0.128073   0.128236   \n",
              "std     0.885122   0.885764   0.886349   0.886903   0.887404   0.887830   \n",
              "min    -1.430106  -1.427834  -1.425622  -1.423593  -1.421753  -1.419963   \n",
              "25%    -0.486316  -0.487349  -0.488307  -0.489389  -0.490569  -0.491719   \n",
              "50%     0.126253   0.122348   0.118658   0.115172   0.111965   0.109027   \n",
              "75%     0.500512   0.505092   0.509517   0.513791   0.517918   0.521810   \n",
              "max     2.538793   2.533538   2.528507   2.523692   2.518997   2.514403   \n",
              "\n",
              "              V7         V8         V9        V10  ...        V91        V92  \\\n",
              "count  54.000000  54.000000  54.000000  54.000000  ...  54.000000  54.000000   \n",
              "mean    0.128404   0.128567   0.128736   0.128870  ...   0.134913   0.134595   \n",
              "std     0.888174   0.888448   0.888656   0.888767  ...   0.887192   0.886645   \n",
              "min    -1.419206  -1.419104  -1.418919  -1.418871  ...  -1.232805  -1.230718   \n",
              "25%    -0.492804  -0.493889  -0.494980  -0.496143  ...  -0.597700  -0.598400   \n",
              "50%     0.106407   0.104201   0.102444   0.101259  ...   0.069284   0.067675   \n",
              "75%     0.525544   0.529207   0.532779   0.536195  ...   0.694773   0.706775   \n",
              "max     2.509745   2.504793   2.499629   2.494405  ...   2.686683   2.660846   \n",
              "\n",
              "             V93        V94        V95        V96        V97        V98  \\\n",
              "count  54.000000  54.000000  54.000000  54.000000  54.000000  54.000000   \n",
              "mean    0.134303   0.134061   0.133880   0.133761   0.133731   0.133782   \n",
              "std     0.886144   0.885717   0.885410   0.885216   0.885254   0.885472   \n",
              "min    -1.228436  -1.225920  -1.223326  -1.220652  -1.218016  -1.215137   \n",
              "25%    -0.599236  -0.600101  -0.600973  -0.601890  -0.602750  -0.603643   \n",
              "50%     0.066003   0.064307   0.062651   0.061080   0.059545   0.058040   \n",
              "75%     0.719124   0.731236   0.739278   0.736948   0.734909   0.733074   \n",
              "max     2.635485   2.610375   2.586515   2.563434   2.542269   2.522663   \n",
              "\n",
              "             V99       V100  \n",
              "count  54.000000  54.000000  \n",
              "mean    0.133892   0.134029  \n",
              "std     0.885853   0.886333  \n",
              "min    -1.212103  -1.208894  \n",
              "25%    -0.604515  -0.605451  \n",
              "50%     0.056553   0.059302  \n",
              "75%     0.731528   0.730169  \n",
              "max     2.504255   2.487269  \n",
              "\n",
              "[8 rows x 100 columns]"
            ],
            "text/html": [
              "\n",
              "  <div id=\"df-e6e72006-19f7-4ae7-9763-0176aee23624\">\n",
              "    <div class=\"colab-df-container\">\n",
              "      <div>\n",
              "<style scoped>\n",
              "    .dataframe tbody tr th:only-of-type {\n",
              "        vertical-align: middle;\n",
              "    }\n",
              "\n",
              "    .dataframe tbody tr th {\n",
              "        vertical-align: top;\n",
              "    }\n",
              "\n",
              "    .dataframe thead th {\n",
              "        text-align: right;\n",
              "    }\n",
              "</style>\n",
              "<table border=\"1\" class=\"dataframe\">\n",
              "  <thead>\n",
              "    <tr style=\"text-align: right;\">\n",
              "      <th></th>\n",
              "      <th>V1</th>\n",
              "      <th>V2</th>\n",
              "      <th>V3</th>\n",
              "      <th>V4</th>\n",
              "      <th>V5</th>\n",
              "      <th>V6</th>\n",
              "      <th>V7</th>\n",
              "      <th>V8</th>\n",
              "      <th>V9</th>\n",
              "      <th>V10</th>\n",
              "      <th>...</th>\n",
              "      <th>V91</th>\n",
              "      <th>V92</th>\n",
              "      <th>V93</th>\n",
              "      <th>V94</th>\n",
              "      <th>V95</th>\n",
              "      <th>V96</th>\n",
              "      <th>V97</th>\n",
              "      <th>V98</th>\n",
              "      <th>V99</th>\n",
              "      <th>V100</th>\n",
              "    </tr>\n",
              "  </thead>\n",
              "  <tbody>\n",
              "    <tr>\n",
              "      <th>count</th>\n",
              "      <td>54.000000</td>\n",
              "      <td>54.000000</td>\n",
              "      <td>54.000000</td>\n",
              "      <td>54.000000</td>\n",
              "      <td>54.000000</td>\n",
              "      <td>54.000000</td>\n",
              "      <td>54.000000</td>\n",
              "      <td>54.000000</td>\n",
              "      <td>54.000000</td>\n",
              "      <td>54.000000</td>\n",
              "      <td>...</td>\n",
              "      <td>54.000000</td>\n",
              "      <td>54.000000</td>\n",
              "      <td>54.000000</td>\n",
              "      <td>54.000000</td>\n",
              "      <td>54.000000</td>\n",
              "      <td>54.000000</td>\n",
              "      <td>54.000000</td>\n",
              "      <td>54.000000</td>\n",
              "      <td>54.000000</td>\n",
              "      <td>54.000000</td>\n",
              "    </tr>\n",
              "    <tr>\n",
              "      <th>mean</th>\n",
              "      <td>0.127194</td>\n",
              "      <td>0.127440</td>\n",
              "      <td>0.127686</td>\n",
              "      <td>0.127895</td>\n",
              "      <td>0.128073</td>\n",
              "      <td>0.128236</td>\n",
              "      <td>0.128404</td>\n",
              "      <td>0.128567</td>\n",
              "      <td>0.128736</td>\n",
              "      <td>0.128870</td>\n",
              "      <td>...</td>\n",
              "      <td>0.134913</td>\n",
              "      <td>0.134595</td>\n",
              "      <td>0.134303</td>\n",
              "      <td>0.134061</td>\n",
              "      <td>0.133880</td>\n",
              "      <td>0.133761</td>\n",
              "      <td>0.133731</td>\n",
              "      <td>0.133782</td>\n",
              "      <td>0.133892</td>\n",
              "      <td>0.134029</td>\n",
              "    </tr>\n",
              "    <tr>\n",
              "      <th>std</th>\n",
              "      <td>0.885122</td>\n",
              "      <td>0.885764</td>\n",
              "      <td>0.886349</td>\n",
              "      <td>0.886903</td>\n",
              "      <td>0.887404</td>\n",
              "      <td>0.887830</td>\n",
              "      <td>0.888174</td>\n",
              "      <td>0.888448</td>\n",
              "      <td>0.888656</td>\n",
              "      <td>0.888767</td>\n",
              "      <td>...</td>\n",
              "      <td>0.887192</td>\n",
              "      <td>0.886645</td>\n",
              "      <td>0.886144</td>\n",
              "      <td>0.885717</td>\n",
              "      <td>0.885410</td>\n",
              "      <td>0.885216</td>\n",
              "      <td>0.885254</td>\n",
              "      <td>0.885472</td>\n",
              "      <td>0.885853</td>\n",
              "      <td>0.886333</td>\n",
              "    </tr>\n",
              "    <tr>\n",
              "      <th>min</th>\n",
              "      <td>-1.430106</td>\n",
              "      <td>-1.427834</td>\n",
              "      <td>-1.425622</td>\n",
              "      <td>-1.423593</td>\n",
              "      <td>-1.421753</td>\n",
              "      <td>-1.419963</td>\n",
              "      <td>-1.419206</td>\n",
              "      <td>-1.419104</td>\n",
              "      <td>-1.418919</td>\n",
              "      <td>-1.418871</td>\n",
              "      <td>...</td>\n",
              "      <td>-1.232805</td>\n",
              "      <td>-1.230718</td>\n",
              "      <td>-1.228436</td>\n",
              "      <td>-1.225920</td>\n",
              "      <td>-1.223326</td>\n",
              "      <td>-1.220652</td>\n",
              "      <td>-1.218016</td>\n",
              "      <td>-1.215137</td>\n",
              "      <td>-1.212103</td>\n",
              "      <td>-1.208894</td>\n",
              "    </tr>\n",
              "    <tr>\n",
              "      <th>25%</th>\n",
              "      <td>-0.486316</td>\n",
              "      <td>-0.487349</td>\n",
              "      <td>-0.488307</td>\n",
              "      <td>-0.489389</td>\n",
              "      <td>-0.490569</td>\n",
              "      <td>-0.491719</td>\n",
              "      <td>-0.492804</td>\n",
              "      <td>-0.493889</td>\n",
              "      <td>-0.494980</td>\n",
              "      <td>-0.496143</td>\n",
              "      <td>...</td>\n",
              "      <td>-0.597700</td>\n",
              "      <td>-0.598400</td>\n",
              "      <td>-0.599236</td>\n",
              "      <td>-0.600101</td>\n",
              "      <td>-0.600973</td>\n",
              "      <td>-0.601890</td>\n",
              "      <td>-0.602750</td>\n",
              "      <td>-0.603643</td>\n",
              "      <td>-0.604515</td>\n",
              "      <td>-0.605451</td>\n",
              "    </tr>\n",
              "    <tr>\n",
              "      <th>50%</th>\n",
              "      <td>0.126253</td>\n",
              "      <td>0.122348</td>\n",
              "      <td>0.118658</td>\n",
              "      <td>0.115172</td>\n",
              "      <td>0.111965</td>\n",
              "      <td>0.109027</td>\n",
              "      <td>0.106407</td>\n",
              "      <td>0.104201</td>\n",
              "      <td>0.102444</td>\n",
              "      <td>0.101259</td>\n",
              "      <td>...</td>\n",
              "      <td>0.069284</td>\n",
              "      <td>0.067675</td>\n",
              "      <td>0.066003</td>\n",
              "      <td>0.064307</td>\n",
              "      <td>0.062651</td>\n",
              "      <td>0.061080</td>\n",
              "      <td>0.059545</td>\n",
              "      <td>0.058040</td>\n",
              "      <td>0.056553</td>\n",
              "      <td>0.059302</td>\n",
              "    </tr>\n",
              "    <tr>\n",
              "      <th>75%</th>\n",
              "      <td>0.500512</td>\n",
              "      <td>0.505092</td>\n",
              "      <td>0.509517</td>\n",
              "      <td>0.513791</td>\n",
              "      <td>0.517918</td>\n",
              "      <td>0.521810</td>\n",
              "      <td>0.525544</td>\n",
              "      <td>0.529207</td>\n",
              "      <td>0.532779</td>\n",
              "      <td>0.536195</td>\n",
              "      <td>...</td>\n",
              "      <td>0.694773</td>\n",
              "      <td>0.706775</td>\n",
              "      <td>0.719124</td>\n",
              "      <td>0.731236</td>\n",
              "      <td>0.739278</td>\n",
              "      <td>0.736948</td>\n",
              "      <td>0.734909</td>\n",
              "      <td>0.733074</td>\n",
              "      <td>0.731528</td>\n",
              "      <td>0.730169</td>\n",
              "    </tr>\n",
              "    <tr>\n",
              "      <th>max</th>\n",
              "      <td>2.538793</td>\n",
              "      <td>2.533538</td>\n",
              "      <td>2.528507</td>\n",
              "      <td>2.523692</td>\n",
              "      <td>2.518997</td>\n",
              "      <td>2.514403</td>\n",
              "      <td>2.509745</td>\n",
              "      <td>2.504793</td>\n",
              "      <td>2.499629</td>\n",
              "      <td>2.494405</td>\n",
              "      <td>...</td>\n",
              "      <td>2.686683</td>\n",
              "      <td>2.660846</td>\n",
              "      <td>2.635485</td>\n",
              "      <td>2.610375</td>\n",
              "      <td>2.586515</td>\n",
              "      <td>2.563434</td>\n",
              "      <td>2.542269</td>\n",
              "      <td>2.522663</td>\n",
              "      <td>2.504255</td>\n",
              "      <td>2.487269</td>\n",
              "    </tr>\n",
              "  </tbody>\n",
              "</table>\n",
              "<p>8 rows × 100 columns</p>\n",
              "</div>\n",
              "      <button class=\"colab-df-convert\" onclick=\"convertToInteractive('df-e6e72006-19f7-4ae7-9763-0176aee23624')\"\n",
              "              title=\"Convert this dataframe to an interactive table.\"\n",
              "              style=\"display:none;\">\n",
              "        \n",
              "  <svg xmlns=\"http://www.w3.org/2000/svg\" height=\"24px\"viewBox=\"0 0 24 24\"\n",
              "       width=\"24px\">\n",
              "    <path d=\"M0 0h24v24H0V0z\" fill=\"none\"/>\n",
              "    <path d=\"M18.56 5.44l.94 2.06.94-2.06 2.06-.94-2.06-.94-.94-2.06-.94 2.06-2.06.94zm-11 1L8.5 8.5l.94-2.06 2.06-.94-2.06-.94L8.5 2.5l-.94 2.06-2.06.94zm10 10l.94 2.06.94-2.06 2.06-.94-2.06-.94-.94-2.06-.94 2.06-2.06.94z\"/><path d=\"M17.41 7.96l-1.37-1.37c-.4-.4-.92-.59-1.43-.59-.52 0-1.04.2-1.43.59L10.3 9.45l-7.72 7.72c-.78.78-.78 2.05 0 2.83L4 21.41c.39.39.9.59 1.41.59.51 0 1.02-.2 1.41-.59l7.78-7.78 2.81-2.81c.8-.78.8-2.07 0-2.86zM5.41 20L4 18.59l7.72-7.72 1.47 1.35L5.41 20z\"/>\n",
              "  </svg>\n",
              "      </button>\n",
              "      \n",
              "  <style>\n",
              "    .colab-df-container {\n",
              "      display:flex;\n",
              "      flex-wrap:wrap;\n",
              "      gap: 12px;\n",
              "    }\n",
              "\n",
              "    .colab-df-convert {\n",
              "      background-color: #E8F0FE;\n",
              "      border: none;\n",
              "      border-radius: 50%;\n",
              "      cursor: pointer;\n",
              "      display: none;\n",
              "      fill: #1967D2;\n",
              "      height: 32px;\n",
              "      padding: 0 0 0 0;\n",
              "      width: 32px;\n",
              "    }\n",
              "\n",
              "    .colab-df-convert:hover {\n",
              "      background-color: #E2EBFA;\n",
              "      box-shadow: 0px 1px 2px rgba(60, 64, 67, 0.3), 0px 1px 3px 1px rgba(60, 64, 67, 0.15);\n",
              "      fill: #174EA6;\n",
              "    }\n",
              "\n",
              "    [theme=dark] .colab-df-convert {\n",
              "      background-color: #3B4455;\n",
              "      fill: #D2E3FC;\n",
              "    }\n",
              "\n",
              "    [theme=dark] .colab-df-convert:hover {\n",
              "      background-color: #434B5C;\n",
              "      box-shadow: 0px 1px 3px 1px rgba(0, 0, 0, 0.15);\n",
              "      filter: drop-shadow(0px 1px 2px rgba(0, 0, 0, 0.3));\n",
              "      fill: #FFFFFF;\n",
              "    }\n",
              "  </style>\n",
              "\n",
              "      <script>\n",
              "        const buttonEl =\n",
              "          document.querySelector('#df-e6e72006-19f7-4ae7-9763-0176aee23624 button.colab-df-convert');\n",
              "        buttonEl.style.display =\n",
              "          google.colab.kernel.accessAllowed ? 'block' : 'none';\n",
              "\n",
              "        async function convertToInteractive(key) {\n",
              "          const element = document.querySelector('#df-e6e72006-19f7-4ae7-9763-0176aee23624');\n",
              "          const dataTable =\n",
              "            await google.colab.kernel.invokeFunction('convertToInteractive',\n",
              "                                                     [key], {});\n",
              "          if (!dataTable) return;\n",
              "\n",
              "          const docLinkHtml = 'Like what you see? Visit the ' +\n",
              "            '<a target=\"_blank\" href=https://colab.research.google.com/notebooks/data_table.ipynb>data table notebook</a>'\n",
              "            + ' to learn more about interactive tables.';\n",
              "          element.innerHTML = '';\n",
              "          dataTable['output_type'] = 'display_data';\n",
              "          await google.colab.output.renderOutput(dataTable, element);\n",
              "          const docLink = document.createElement('div');\n",
              "          docLink.innerHTML = docLinkHtml;\n",
              "          element.appendChild(docLink);\n",
              "        }\n",
              "      </script>\n",
              "    </div>\n",
              "  </div>\n",
              "  "
            ]
          },
          "metadata": {},
          "execution_count": 12
        }
      ]
    },
    {
      "cell_type": "code",
      "source": [
        "y_train.describe()"
      ],
      "metadata": {
        "colab": {
          "base_uri": "https://localhost:8080/",
          "height": 300
        },
        "id": "ut2Qazl0YNDx",
        "outputId": "b2bff0cc-b661-429c-e646-de4c54fb0b76"
      },
      "execution_count": null,
      "outputs": [
        {
          "output_type": "execute_result",
          "data": {
            "text/plain": [
              "                fat\n",
              "count  1.610000e+02\n",
              "mean   2.206654e-17\n",
              "std    1.003120e+00\n",
              "min   -1.355039e+00\n",
              "25%   -8.591285e-01\n",
              "50%   -3.002452e-01\n",
              "75%    7.860351e-01\n",
              "max    2.391841e+00"
            ],
            "text/html": [
              "\n",
              "  <div id=\"df-e472c425-b109-47c1-9470-00e8fca99152\">\n",
              "    <div class=\"colab-df-container\">\n",
              "      <div>\n",
              "<style scoped>\n",
              "    .dataframe tbody tr th:only-of-type {\n",
              "        vertical-align: middle;\n",
              "    }\n",
              "\n",
              "    .dataframe tbody tr th {\n",
              "        vertical-align: top;\n",
              "    }\n",
              "\n",
              "    .dataframe thead th {\n",
              "        text-align: right;\n",
              "    }\n",
              "</style>\n",
              "<table border=\"1\" class=\"dataframe\">\n",
              "  <thead>\n",
              "    <tr style=\"text-align: right;\">\n",
              "      <th></th>\n",
              "      <th>fat</th>\n",
              "    </tr>\n",
              "  </thead>\n",
              "  <tbody>\n",
              "    <tr>\n",
              "      <th>count</th>\n",
              "      <td>1.610000e+02</td>\n",
              "    </tr>\n",
              "    <tr>\n",
              "      <th>mean</th>\n",
              "      <td>2.206654e-17</td>\n",
              "    </tr>\n",
              "    <tr>\n",
              "      <th>std</th>\n",
              "      <td>1.003120e+00</td>\n",
              "    </tr>\n",
              "    <tr>\n",
              "      <th>min</th>\n",
              "      <td>-1.355039e+00</td>\n",
              "    </tr>\n",
              "    <tr>\n",
              "      <th>25%</th>\n",
              "      <td>-8.591285e-01</td>\n",
              "    </tr>\n",
              "    <tr>\n",
              "      <th>50%</th>\n",
              "      <td>-3.002452e-01</td>\n",
              "    </tr>\n",
              "    <tr>\n",
              "      <th>75%</th>\n",
              "      <td>7.860351e-01</td>\n",
              "    </tr>\n",
              "    <tr>\n",
              "      <th>max</th>\n",
              "      <td>2.391841e+00</td>\n",
              "    </tr>\n",
              "  </tbody>\n",
              "</table>\n",
              "</div>\n",
              "      <button class=\"colab-df-convert\" onclick=\"convertToInteractive('df-e472c425-b109-47c1-9470-00e8fca99152')\"\n",
              "              title=\"Convert this dataframe to an interactive table.\"\n",
              "              style=\"display:none;\">\n",
              "        \n",
              "  <svg xmlns=\"http://www.w3.org/2000/svg\" height=\"24px\"viewBox=\"0 0 24 24\"\n",
              "       width=\"24px\">\n",
              "    <path d=\"M0 0h24v24H0V0z\" fill=\"none\"/>\n",
              "    <path d=\"M18.56 5.44l.94 2.06.94-2.06 2.06-.94-2.06-.94-.94-2.06-.94 2.06-2.06.94zm-11 1L8.5 8.5l.94-2.06 2.06-.94-2.06-.94L8.5 2.5l-.94 2.06-2.06.94zm10 10l.94 2.06.94-2.06 2.06-.94-2.06-.94-.94-2.06-.94 2.06-2.06.94z\"/><path d=\"M17.41 7.96l-1.37-1.37c-.4-.4-.92-.59-1.43-.59-.52 0-1.04.2-1.43.59L10.3 9.45l-7.72 7.72c-.78.78-.78 2.05 0 2.83L4 21.41c.39.39.9.59 1.41.59.51 0 1.02-.2 1.41-.59l7.78-7.78 2.81-2.81c.8-.78.8-2.07 0-2.86zM5.41 20L4 18.59l7.72-7.72 1.47 1.35L5.41 20z\"/>\n",
              "  </svg>\n",
              "      </button>\n",
              "      \n",
              "  <style>\n",
              "    .colab-df-container {\n",
              "      display:flex;\n",
              "      flex-wrap:wrap;\n",
              "      gap: 12px;\n",
              "    }\n",
              "\n",
              "    .colab-df-convert {\n",
              "      background-color: #E8F0FE;\n",
              "      border: none;\n",
              "      border-radius: 50%;\n",
              "      cursor: pointer;\n",
              "      display: none;\n",
              "      fill: #1967D2;\n",
              "      height: 32px;\n",
              "      padding: 0 0 0 0;\n",
              "      width: 32px;\n",
              "    }\n",
              "\n",
              "    .colab-df-convert:hover {\n",
              "      background-color: #E2EBFA;\n",
              "      box-shadow: 0px 1px 2px rgba(60, 64, 67, 0.3), 0px 1px 3px 1px rgba(60, 64, 67, 0.15);\n",
              "      fill: #174EA6;\n",
              "    }\n",
              "\n",
              "    [theme=dark] .colab-df-convert {\n",
              "      background-color: #3B4455;\n",
              "      fill: #D2E3FC;\n",
              "    }\n",
              "\n",
              "    [theme=dark] .colab-df-convert:hover {\n",
              "      background-color: #434B5C;\n",
              "      box-shadow: 0px 1px 3px 1px rgba(0, 0, 0, 0.15);\n",
              "      filter: drop-shadow(0px 1px 2px rgba(0, 0, 0, 0.3));\n",
              "      fill: #FFFFFF;\n",
              "    }\n",
              "  </style>\n",
              "\n",
              "      <script>\n",
              "        const buttonEl =\n",
              "          document.querySelector('#df-e472c425-b109-47c1-9470-00e8fca99152 button.colab-df-convert');\n",
              "        buttonEl.style.display =\n",
              "          google.colab.kernel.accessAllowed ? 'block' : 'none';\n",
              "\n",
              "        async function convertToInteractive(key) {\n",
              "          const element = document.querySelector('#df-e472c425-b109-47c1-9470-00e8fca99152');\n",
              "          const dataTable =\n",
              "            await google.colab.kernel.invokeFunction('convertToInteractive',\n",
              "                                                     [key], {});\n",
              "          if (!dataTable) return;\n",
              "\n",
              "          const docLinkHtml = 'Like what you see? Visit the ' +\n",
              "            '<a target=\"_blank\" href=https://colab.research.google.com/notebooks/data_table.ipynb>data table notebook</a>'\n",
              "            + ' to learn more about interactive tables.';\n",
              "          element.innerHTML = '';\n",
              "          dataTable['output_type'] = 'display_data';\n",
              "          await google.colab.output.renderOutput(dataTable, element);\n",
              "          const docLink = document.createElement('div');\n",
              "          docLink.innerHTML = docLinkHtml;\n",
              "          element.appendChild(docLink);\n",
              "        }\n",
              "      </script>\n",
              "    </div>\n",
              "  </div>\n",
              "  "
            ]
          },
          "metadata": {},
          "execution_count": 13
        }
      ]
    },
    {
      "cell_type": "code",
      "source": [
        "y_test.describe()"
      ],
      "metadata": {
        "colab": {
          "base_uri": "https://localhost:8080/",
          "height": 300
        },
        "id": "lKhiaxB_YSkL",
        "outputId": "266cd7e0-dc11-4153-9bfe-2bf3e5333614"
      },
      "execution_count": null,
      "outputs": [
        {
          "output_type": "execute_result",
          "data": {
            "text/plain": [
              "             fat\n",
              "count  54.000000\n",
              "mean    0.008788\n",
              "std     1.011488\n",
              "min    -1.268451\n",
              "25%    -0.746958\n",
              "50%    -0.343539\n",
              "75%     0.697480\n",
              "max     2.439070"
            ],
            "text/html": [
              "\n",
              "  <div id=\"df-9b86010b-9b39-4a79-a4e4-f92452a94be4\">\n",
              "    <div class=\"colab-df-container\">\n",
              "      <div>\n",
              "<style scoped>\n",
              "    .dataframe tbody tr th:only-of-type {\n",
              "        vertical-align: middle;\n",
              "    }\n",
              "\n",
              "    .dataframe tbody tr th {\n",
              "        vertical-align: top;\n",
              "    }\n",
              "\n",
              "    .dataframe thead th {\n",
              "        text-align: right;\n",
              "    }\n",
              "</style>\n",
              "<table border=\"1\" class=\"dataframe\">\n",
              "  <thead>\n",
              "    <tr style=\"text-align: right;\">\n",
              "      <th></th>\n",
              "      <th>fat</th>\n",
              "    </tr>\n",
              "  </thead>\n",
              "  <tbody>\n",
              "    <tr>\n",
              "      <th>count</th>\n",
              "      <td>54.000000</td>\n",
              "    </tr>\n",
              "    <tr>\n",
              "      <th>mean</th>\n",
              "      <td>0.008788</td>\n",
              "    </tr>\n",
              "    <tr>\n",
              "      <th>std</th>\n",
              "      <td>1.011488</td>\n",
              "    </tr>\n",
              "    <tr>\n",
              "      <th>min</th>\n",
              "      <td>-1.268451</td>\n",
              "    </tr>\n",
              "    <tr>\n",
              "      <th>25%</th>\n",
              "      <td>-0.746958</td>\n",
              "    </tr>\n",
              "    <tr>\n",
              "      <th>50%</th>\n",
              "      <td>-0.343539</td>\n",
              "    </tr>\n",
              "    <tr>\n",
              "      <th>75%</th>\n",
              "      <td>0.697480</td>\n",
              "    </tr>\n",
              "    <tr>\n",
              "      <th>max</th>\n",
              "      <td>2.439070</td>\n",
              "    </tr>\n",
              "  </tbody>\n",
              "</table>\n",
              "</div>\n",
              "      <button class=\"colab-df-convert\" onclick=\"convertToInteractive('df-9b86010b-9b39-4a79-a4e4-f92452a94be4')\"\n",
              "              title=\"Convert this dataframe to an interactive table.\"\n",
              "              style=\"display:none;\">\n",
              "        \n",
              "  <svg xmlns=\"http://www.w3.org/2000/svg\" height=\"24px\"viewBox=\"0 0 24 24\"\n",
              "       width=\"24px\">\n",
              "    <path d=\"M0 0h24v24H0V0z\" fill=\"none\"/>\n",
              "    <path d=\"M18.56 5.44l.94 2.06.94-2.06 2.06-.94-2.06-.94-.94-2.06-.94 2.06-2.06.94zm-11 1L8.5 8.5l.94-2.06 2.06-.94-2.06-.94L8.5 2.5l-.94 2.06-2.06.94zm10 10l.94 2.06.94-2.06 2.06-.94-2.06-.94-.94-2.06-.94 2.06-2.06.94z\"/><path d=\"M17.41 7.96l-1.37-1.37c-.4-.4-.92-.59-1.43-.59-.52 0-1.04.2-1.43.59L10.3 9.45l-7.72 7.72c-.78.78-.78 2.05 0 2.83L4 21.41c.39.39.9.59 1.41.59.51 0 1.02-.2 1.41-.59l7.78-7.78 2.81-2.81c.8-.78.8-2.07 0-2.86zM5.41 20L4 18.59l7.72-7.72 1.47 1.35L5.41 20z\"/>\n",
              "  </svg>\n",
              "      </button>\n",
              "      \n",
              "  <style>\n",
              "    .colab-df-container {\n",
              "      display:flex;\n",
              "      flex-wrap:wrap;\n",
              "      gap: 12px;\n",
              "    }\n",
              "\n",
              "    .colab-df-convert {\n",
              "      background-color: #E8F0FE;\n",
              "      border: none;\n",
              "      border-radius: 50%;\n",
              "      cursor: pointer;\n",
              "      display: none;\n",
              "      fill: #1967D2;\n",
              "      height: 32px;\n",
              "      padding: 0 0 0 0;\n",
              "      width: 32px;\n",
              "    }\n",
              "\n",
              "    .colab-df-convert:hover {\n",
              "      background-color: #E2EBFA;\n",
              "      box-shadow: 0px 1px 2px rgba(60, 64, 67, 0.3), 0px 1px 3px 1px rgba(60, 64, 67, 0.15);\n",
              "      fill: #174EA6;\n",
              "    }\n",
              "\n",
              "    [theme=dark] .colab-df-convert {\n",
              "      background-color: #3B4455;\n",
              "      fill: #D2E3FC;\n",
              "    }\n",
              "\n",
              "    [theme=dark] .colab-df-convert:hover {\n",
              "      background-color: #434B5C;\n",
              "      box-shadow: 0px 1px 3px 1px rgba(0, 0, 0, 0.15);\n",
              "      filter: drop-shadow(0px 1px 2px rgba(0, 0, 0, 0.3));\n",
              "      fill: #FFFFFF;\n",
              "    }\n",
              "  </style>\n",
              "\n",
              "      <script>\n",
              "        const buttonEl =\n",
              "          document.querySelector('#df-9b86010b-9b39-4a79-a4e4-f92452a94be4 button.colab-df-convert');\n",
              "        buttonEl.style.display =\n",
              "          google.colab.kernel.accessAllowed ? 'block' : 'none';\n",
              "\n",
              "        async function convertToInteractive(key) {\n",
              "          const element = document.querySelector('#df-9b86010b-9b39-4a79-a4e4-f92452a94be4');\n",
              "          const dataTable =\n",
              "            await google.colab.kernel.invokeFunction('convertToInteractive',\n",
              "                                                     [key], {});\n",
              "          if (!dataTable) return;\n",
              "\n",
              "          const docLinkHtml = 'Like what you see? Visit the ' +\n",
              "            '<a target=\"_blank\" href=https://colab.research.google.com/notebooks/data_table.ipynb>data table notebook</a>'\n",
              "            + ' to learn more about interactive tables.';\n",
              "          element.innerHTML = '';\n",
              "          dataTable['output_type'] = 'display_data';\n",
              "          await google.colab.output.renderOutput(dataTable, element);\n",
              "          const docLink = document.createElement('div');\n",
              "          docLink.innerHTML = docLinkHtml;\n",
              "          element.appendChild(docLink);\n",
              "        }\n",
              "      </script>\n",
              "    </div>\n",
              "  </div>\n",
              "  "
            ]
          },
          "metadata": {},
          "execution_count": 14
        }
      ]
    },
    {
      "cell_type": "markdown",
      "source": [
        "## d)\n",
        "\n",
        "Fit a regular OLS, do we need to fit the intercept?\n",
        "\n",
        "**Answer:** When working with standardized data, it is common practice do not include an intercept term in the model because the standardization process transforms the data such that the mean of each feature is centered at 0 and the variance is equal to 1. In such cases, adding an intercept term to the model would be redundant and could potentially add unnecessary complexity.\n",
        "\n",
        "Nevertheless, it is crucial to assess the objectives and needs of the analysis before making a decision on whether to include an intercept term in a model using standardized data, as it can have an effect on the interpretation of the results."
      ],
      "metadata": {
        "id": "sPbAKk4EXK4n"
      }
    },
    {
      "cell_type": "code",
      "source": [
        "lin_reg = LinearRegression(fit_intercept=False).fit(X_train, y_train)\n",
        "y_pred = lin_reg.predict(X_test)\n",
        "\n",
        "y_true = np.copy(y_test)\n",
        "\n",
        "R2score = r2_score(y_test, y_pred)\n",
        "\n",
        "teta_coef = lin_reg.coef_"
      ],
      "metadata": {
        "id": "WQ3p6nSeBjJA"
      },
      "execution_count": null,
      "outputs": []
    },
    {
      "cell_type": "markdown",
      "source": [
        "## e)\n",
        "\n",
        "Create a dataFrame df_coef and store the R2 coefficients of the estimated model. This data frame will be used along the TP to store and compare R2 coefficients of other variants of the\n",
        "OLS problem.\n",
        "\n",
        "**Answer:**"
      ],
      "metadata": {
        "id": "Zn0ybP56Lnp5"
      }
    },
    {
      "cell_type": "code",
      "source": [
        "df_coef = pd.DataFrame([R2score], index=['R2 score'], columns = ['Preprocessed Data'])\n",
        "\n",
        "df_coef"
      ],
      "metadata": {
        "id": "pKnOkD_oM3Fr",
        "colab": {
          "base_uri": "https://localhost:8080/",
          "height": 81
        },
        "outputId": "e44a0b71-1749-4776-c0a3-c50a93b3238b"
      },
      "execution_count": null,
      "outputs": [
        {
          "output_type": "execute_result",
          "data": {
            "text/plain": [
              "          Preprocessed Data\n",
              "R2 score           0.960055"
            ],
            "text/html": [
              "\n",
              "  <div id=\"df-400acea2-142e-4f81-9faa-f0ebd1772166\">\n",
              "    <div class=\"colab-df-container\">\n",
              "      <div>\n",
              "<style scoped>\n",
              "    .dataframe tbody tr th:only-of-type {\n",
              "        vertical-align: middle;\n",
              "    }\n",
              "\n",
              "    .dataframe tbody tr th {\n",
              "        vertical-align: top;\n",
              "    }\n",
              "\n",
              "    .dataframe thead th {\n",
              "        text-align: right;\n",
              "    }\n",
              "</style>\n",
              "<table border=\"1\" class=\"dataframe\">\n",
              "  <thead>\n",
              "    <tr style=\"text-align: right;\">\n",
              "      <th></th>\n",
              "      <th>Preprocessed Data</th>\n",
              "    </tr>\n",
              "  </thead>\n",
              "  <tbody>\n",
              "    <tr>\n",
              "      <th>R2 score</th>\n",
              "      <td>0.960055</td>\n",
              "    </tr>\n",
              "  </tbody>\n",
              "</table>\n",
              "</div>\n",
              "      <button class=\"colab-df-convert\" onclick=\"convertToInteractive('df-400acea2-142e-4f81-9faa-f0ebd1772166')\"\n",
              "              title=\"Convert this dataframe to an interactive table.\"\n",
              "              style=\"display:none;\">\n",
              "        \n",
              "  <svg xmlns=\"http://www.w3.org/2000/svg\" height=\"24px\"viewBox=\"0 0 24 24\"\n",
              "       width=\"24px\">\n",
              "    <path d=\"M0 0h24v24H0V0z\" fill=\"none\"/>\n",
              "    <path d=\"M18.56 5.44l.94 2.06.94-2.06 2.06-.94-2.06-.94-.94-2.06-.94 2.06-2.06.94zm-11 1L8.5 8.5l.94-2.06 2.06-.94-2.06-.94L8.5 2.5l-.94 2.06-2.06.94zm10 10l.94 2.06.94-2.06 2.06-.94-2.06-.94-.94-2.06-.94 2.06-2.06.94z\"/><path d=\"M17.41 7.96l-1.37-1.37c-.4-.4-.92-.59-1.43-.59-.52 0-1.04.2-1.43.59L10.3 9.45l-7.72 7.72c-.78.78-.78 2.05 0 2.83L4 21.41c.39.39.9.59 1.41.59.51 0 1.02-.2 1.41-.59l7.78-7.78 2.81-2.81c.8-.78.8-2.07 0-2.86zM5.41 20L4 18.59l7.72-7.72 1.47 1.35L5.41 20z\"/>\n",
              "  </svg>\n",
              "      </button>\n",
              "      \n",
              "  <style>\n",
              "    .colab-df-container {\n",
              "      display:flex;\n",
              "      flex-wrap:wrap;\n",
              "      gap: 12px;\n",
              "    }\n",
              "\n",
              "    .colab-df-convert {\n",
              "      background-color: #E8F0FE;\n",
              "      border: none;\n",
              "      border-radius: 50%;\n",
              "      cursor: pointer;\n",
              "      display: none;\n",
              "      fill: #1967D2;\n",
              "      height: 32px;\n",
              "      padding: 0 0 0 0;\n",
              "      width: 32px;\n",
              "    }\n",
              "\n",
              "    .colab-df-convert:hover {\n",
              "      background-color: #E2EBFA;\n",
              "      box-shadow: 0px 1px 2px rgba(60, 64, 67, 0.3), 0px 1px 3px 1px rgba(60, 64, 67, 0.15);\n",
              "      fill: #174EA6;\n",
              "    }\n",
              "\n",
              "    [theme=dark] .colab-df-convert {\n",
              "      background-color: #3B4455;\n",
              "      fill: #D2E3FC;\n",
              "    }\n",
              "\n",
              "    [theme=dark] .colab-df-convert:hover {\n",
              "      background-color: #434B5C;\n",
              "      box-shadow: 0px 1px 3px 1px rgba(0, 0, 0, 0.15);\n",
              "      filter: drop-shadow(0px 1px 2px rgba(0, 0, 0, 0.3));\n",
              "      fill: #FFFFFF;\n",
              "    }\n",
              "  </style>\n",
              "\n",
              "      <script>\n",
              "        const buttonEl =\n",
              "          document.querySelector('#df-400acea2-142e-4f81-9faa-f0ebd1772166 button.colab-df-convert');\n",
              "        buttonEl.style.display =\n",
              "          google.colab.kernel.accessAllowed ? 'block' : 'none';\n",
              "\n",
              "        async function convertToInteractive(key) {\n",
              "          const element = document.querySelector('#df-400acea2-142e-4f81-9faa-f0ebd1772166');\n",
              "          const dataTable =\n",
              "            await google.colab.kernel.invokeFunction('convertToInteractive',\n",
              "                                                     [key], {});\n",
              "          if (!dataTable) return;\n",
              "\n",
              "          const docLinkHtml = 'Like what you see? Visit the ' +\n",
              "            '<a target=\"_blank\" href=https://colab.research.google.com/notebooks/data_table.ipynb>data table notebook</a>'\n",
              "            + ' to learn more about interactive tables.';\n",
              "          element.innerHTML = '';\n",
              "          dataTable['output_type'] = 'display_data';\n",
              "          await google.colab.output.renderOutput(dataTable, element);\n",
              "          const docLink = document.createElement('div');\n",
              "          docLink.innerHTML = docLinkHtml;\n",
              "          element.appendChild(docLink);\n",
              "        }\n",
              "      </script>\n",
              "    </div>\n",
              "  </div>\n",
              "  "
            ]
          },
          "metadata": {},
          "execution_count": 16
        }
      ]
    },
    {
      "cell_type": "markdown",
      "source": [
        "# 2\n",
        "\n",
        "Program the method of the forward variable selection. You can use the test statistics of the test for nullity (as seen during the course). Do not define the stop criterion for the method, i.e. add a variables at each time until all the variables are used. Store the order of the variable selection and the associated p-value for each of them.\n",
        "\n",
        "**Answer:**"
      ],
      "metadata": {
        "id": "UP4PybZDSwsM"
      }
    },
    {
      "cell_type": "code",
      "source": [
        "X_train = X_train.to_numpy()\n",
        "y_train = y_train.to_numpy()\n",
        "X_test = X_test.to_numpy()\n",
        "y_test = y_test.to_numpy()"
      ],
      "metadata": {
        "id": "iYLZDfEuicRS"
      },
      "execution_count": null,
      "outputs": []
    },
    {
      "cell_type": "code",
      "source": [
        "def forward_var_selection(input_matrix, output_vector):\n",
        "    residual = np.copy(output_vector)\n",
        "    selected_covariates = []\n",
        "    p_values = []\n",
        "    num_rows, num_cols = input_matrix.shape\n",
        "    e = np.array([0, 1])\n",
        "\n",
        "    for k in range(num_cols):\n",
        "        theta_values = []\n",
        "        t_values = []\n",
        "        for i in range(num_cols):\n",
        "            if i not in selected_covariates:\n",
        "                ols = LinearRegression()\n",
        "                reg = ols.fit(input_matrix[:, i].reshape(-1, 1), residual)\n",
        "                theta = np.array([reg.intercept_, reg.coef_[0]])\n",
        "                theta_values.append(theta)\n",
        "\n",
        "                x_ = np.stack((np.ones(num_rows), input_matrix[:, i]), axis=1)\n",
        "                gram_matrix = (1/num_rows) * (x_.T @ x_)\n",
        "                noise_estimator = (1/(num_rows-2)) * np.linalg.norm(residual - x_ @ theta)**2\n",
        "\n",
        "                s_square = e.T @ np.linalg.inv(gram_matrix) @ e\n",
        "                t_value = np.sqrt(num_rows) * np.linalg.norm(theta, ord=1) * (1/(np.sqrt(s_square)*noise_estimator))\n",
        "                t_values.append(float(t_value))\n",
        "            else:\n",
        "                theta_values.append(np.array([0, 0]))\n",
        "                t_values.append(0)\n",
        "\n",
        "        cov_index = t_values.index(max(t_values))\n",
        "        selected_covariates.append(cov_index)\n",
        "        p_value = 2 * (1 - norm.cdf(max(t_values)))\n",
        "        p_values.append(p_value)\n",
        "        selected_x_ = np.c_[np.ones(num_rows), input_matrix[:, cov_index]]\n",
        "        residual -=  selected_x_ @ theta_values[cov_index]\n",
        "\n",
        "    return p_values, selected_covariates"
      ],
      "metadata": {
        "id": "q4Byav048nGy"
      },
      "execution_count": null,
      "outputs": []
    },
    {
      "cell_type": "code",
      "source": [
        "p_values, var_order = forward_var_selection(X_train, y_train)"
      ],
      "metadata": {
        "id": "HTW66FxVkLne"
      },
      "execution_count": null,
      "outputs": []
    },
    {
      "cell_type": "code",
      "source": [
        "np.array(var_order)"
      ],
      "metadata": {
        "colab": {
          "base_uri": "https://localhost:8080/"
        },
        "id": "wmeyjAn18HeF",
        "outputId": "0c0e4214-20fc-40d5-bec6-3e02ffc386c8"
      },
      "execution_count": null,
      "outputs": [
        {
          "output_type": "execute_result",
          "data": {
            "text/plain": [
              "array([40,  7, 39,  6, 41,  8, 38,  5, 42,  9, 37,  4, 36, 10, 97,  3, 43,\n",
              "       11, 35,  2, 96, 12, 98, 13, 34,  1, 44,  0, 95, 14, 33, 15, 99, 16,\n",
              "       32, 17, 94, 18, 93, 19, 45, 64, 31, 65, 92, 63, 91, 66, 90, 67, 30,\n",
              "       20, 89, 62, 88, 68, 46, 61, 87, 69, 86, 60, 85, 53, 29, 52, 84, 70,\n",
              "       83, 54, 28, 59, 82, 21, 47, 55, 81, 58, 27, 51, 80, 71, 26, 56, 79,\n",
              "       57, 48, 72, 78, 50, 25, 22, 77, 73, 24, 74, 76, 75, 49, 23])"
            ]
          },
          "metadata": {},
          "execution_count": 20
        }
      ]
    },
    {
      "cell_type": "code",
      "source": [
        "np.array(p_values)"
      ],
      "metadata": {
        "colab": {
          "base_uri": "https://localhost:8080/"
        },
        "id": "dj0mkXCaaBn9",
        "outputId": "44d6bea5-df93-4680-8bb4-ea78a9428217"
      },
      "execution_count": null,
      "outputs": [
        {
          "output_type": "execute_result",
          "data": {
            "text/plain": [
              "array([0.        , 0.01761061, 0.01745048, 0.01655033, 0.01718331,\n",
              "       0.01647531, 0.01728771, 0.01662537, 0.02043894, 0.01990468,\n",
              "       0.01981103, 0.01945562, 0.02638865, 0.02575844, 0.02943824,\n",
              "       0.03354623, 0.03075535, 0.03019065, 0.03425452, 0.035407  ,\n",
              "       0.03943112, 0.04310109, 0.04749495, 0.0558538 , 0.05125932,\n",
              "       0.05093972, 0.06342498, 0.06740935, 0.07145314, 0.07827881,\n",
              "       0.07499589, 0.08256114, 0.09534919, 0.11533294, 0.12678632,\n",
              "       0.14339328, 0.14791955, 0.17980362, 0.2044645 , 0.24607647,\n",
              "       0.25154797, 0.25587808, 0.26661148, 0.27416952, 0.2829636 ,\n",
              "       0.28698854, 0.31606503, 0.31930717, 0.34889136, 0.35330633,\n",
              "       0.37480157, 0.36932335, 0.37705499, 0.38517725, 0.41027838,\n",
              "       0.4133985 , 0.42678954, 0.43268579, 0.43795969, 0.4433497 ,\n",
              "       0.46312737, 0.46721373, 0.49153337, 0.49433628, 0.49288102,\n",
              "       0.49817193, 0.5261826 , 0.53093653, 0.56817472, 0.57031535,\n",
              "       0.59932653, 0.60645714, 0.61727683, 0.61887969, 0.62084908,\n",
              "       0.62123504, 0.67161415, 0.67412466, 0.69372845, 0.69890337,\n",
              "       0.72465954, 0.72438944, 0.76483523, 0.77065894, 0.77306519,\n",
              "       0.774743  , 0.77987405, 0.79517126, 0.83162679, 0.85133073,\n",
              "       0.85991559, 0.86040209, 0.89005618, 0.88977   , 0.9030854 ,\n",
              "       0.92860351, 0.94561256, 0.97128234, 0.97782197, 0.97782157])"
            ]
          },
          "metadata": {},
          "execution_count": 21
        }
      ]
    },
    {
      "cell_type": "markdown",
      "source": [
        "# 3\n",
        "Run OLS on the variables with a p-value smaller than 0.05.\n"
      ],
      "metadata": {
        "id": "1J40z4q8J2GA"
      }
    },
    {
      "cell_type": "markdown",
      "source": [
        "## a)\n",
        "\n",
        "Apply the OLS of the sklearn library.\n",
        "\n",
        "**Answer:**"
      ],
      "metadata": {
        "id": "hX0n8IVwMpP7"
      }
    },
    {
      "cell_type": "code",
      "source": [
        "var_selected = [v for v, p in zip(var_order, p_values) if p<0.05]\n",
        "y_train_sel = np.zeros((len(var_selected),1))\n",
        "\n",
        "X_train_sel = X_train[:, var_selected]\n",
        "X_test_sel = X_test[:, var_selected]\n",
        "\n",
        "ols = LinearRegression(fit_intercept=False).fit(X_train_sel, y_train)\n",
        "y_pred = ols.predict(X_test_sel)"
      ],
      "metadata": {
        "id": "6QvFAhjQR7Sf"
      },
      "execution_count": null,
      "outputs": []
    },
    {
      "cell_type": "code",
      "source": [
        "len(var_selected)"
      ],
      "metadata": {
        "colab": {
          "base_uri": "https://localhost:8080/"
        },
        "id": "uoyZJw1f5-mL",
        "outputId": "f12759db-96f0-4901-8774-576f2e830fca"
      },
      "execution_count": null,
      "outputs": [
        {
          "output_type": "execute_result",
          "data": {
            "text/plain": [
              "23"
            ]
          },
          "metadata": {},
          "execution_count": 23
        }
      ]
    },
    {
      "cell_type": "markdown",
      "source": [
        "## b)\n",
        "\n",
        "Store the R2 coefficient in df_coef.\n",
        "\n",
        "**Answer:**"
      ],
      "metadata": {
        "id": "FSgItM54UmnQ"
      }
    },
    {
      "cell_type": "code",
      "source": [
        "y_true = np.copy(y_test)\n",
        "R2score = r2_score(y_true, y_pred)\n",
        "\n",
        "df_coef['p-value<0.05'] = R2score"
      ],
      "metadata": {
        "id": "qA7tfwKrNkNh"
      },
      "execution_count": null,
      "outputs": []
    },
    {
      "cell_type": "code",
      "source": [
        "df_coef"
      ],
      "metadata": {
        "colab": {
          "base_uri": "https://localhost:8080/",
          "height": 81
        },
        "id": "fQ96c4BMVa1i",
        "outputId": "06c1319b-642d-41c1-8df6-451554f57037"
      },
      "execution_count": null,
      "outputs": [
        {
          "output_type": "execute_result",
          "data": {
            "text/plain": [
              "          Preprocessed Data  p-value<0.05\n",
              "R2 score           0.960055       0.95518"
            ],
            "text/html": [
              "\n",
              "  <div id=\"df-2cd23491-21fb-44e0-a1ba-309814c51650\">\n",
              "    <div class=\"colab-df-container\">\n",
              "      <div>\n",
              "<style scoped>\n",
              "    .dataframe tbody tr th:only-of-type {\n",
              "        vertical-align: middle;\n",
              "    }\n",
              "\n",
              "    .dataframe tbody tr th {\n",
              "        vertical-align: top;\n",
              "    }\n",
              "\n",
              "    .dataframe thead th {\n",
              "        text-align: right;\n",
              "    }\n",
              "</style>\n",
              "<table border=\"1\" class=\"dataframe\">\n",
              "  <thead>\n",
              "    <tr style=\"text-align: right;\">\n",
              "      <th></th>\n",
              "      <th>Preprocessed Data</th>\n",
              "      <th>p-value&lt;0.05</th>\n",
              "    </tr>\n",
              "  </thead>\n",
              "  <tbody>\n",
              "    <tr>\n",
              "      <th>R2 score</th>\n",
              "      <td>0.960055</td>\n",
              "      <td>0.95518</td>\n",
              "    </tr>\n",
              "  </tbody>\n",
              "</table>\n",
              "</div>\n",
              "      <button class=\"colab-df-convert\" onclick=\"convertToInteractive('df-2cd23491-21fb-44e0-a1ba-309814c51650')\"\n",
              "              title=\"Convert this dataframe to an interactive table.\"\n",
              "              style=\"display:none;\">\n",
              "        \n",
              "  <svg xmlns=\"http://www.w3.org/2000/svg\" height=\"24px\"viewBox=\"0 0 24 24\"\n",
              "       width=\"24px\">\n",
              "    <path d=\"M0 0h24v24H0V0z\" fill=\"none\"/>\n",
              "    <path d=\"M18.56 5.44l.94 2.06.94-2.06 2.06-.94-2.06-.94-.94-2.06-.94 2.06-2.06.94zm-11 1L8.5 8.5l.94-2.06 2.06-.94-2.06-.94L8.5 2.5l-.94 2.06-2.06.94zm10 10l.94 2.06.94-2.06 2.06-.94-2.06-.94-.94-2.06-.94 2.06-2.06.94z\"/><path d=\"M17.41 7.96l-1.37-1.37c-.4-.4-.92-.59-1.43-.59-.52 0-1.04.2-1.43.59L10.3 9.45l-7.72 7.72c-.78.78-.78 2.05 0 2.83L4 21.41c.39.39.9.59 1.41.59.51 0 1.02-.2 1.41-.59l7.78-7.78 2.81-2.81c.8-.78.8-2.07 0-2.86zM5.41 20L4 18.59l7.72-7.72 1.47 1.35L5.41 20z\"/>\n",
              "  </svg>\n",
              "      </button>\n",
              "      \n",
              "  <style>\n",
              "    .colab-df-container {\n",
              "      display:flex;\n",
              "      flex-wrap:wrap;\n",
              "      gap: 12px;\n",
              "    }\n",
              "\n",
              "    .colab-df-convert {\n",
              "      background-color: #E8F0FE;\n",
              "      border: none;\n",
              "      border-radius: 50%;\n",
              "      cursor: pointer;\n",
              "      display: none;\n",
              "      fill: #1967D2;\n",
              "      height: 32px;\n",
              "      padding: 0 0 0 0;\n",
              "      width: 32px;\n",
              "    }\n",
              "\n",
              "    .colab-df-convert:hover {\n",
              "      background-color: #E2EBFA;\n",
              "      box-shadow: 0px 1px 2px rgba(60, 64, 67, 0.3), 0px 1px 3px 1px rgba(60, 64, 67, 0.15);\n",
              "      fill: #174EA6;\n",
              "    }\n",
              "\n",
              "    [theme=dark] .colab-df-convert {\n",
              "      background-color: #3B4455;\n",
              "      fill: #D2E3FC;\n",
              "    }\n",
              "\n",
              "    [theme=dark] .colab-df-convert:hover {\n",
              "      background-color: #434B5C;\n",
              "      box-shadow: 0px 1px 3px 1px rgba(0, 0, 0, 0.15);\n",
              "      filter: drop-shadow(0px 1px 2px rgba(0, 0, 0, 0.3));\n",
              "      fill: #FFFFFF;\n",
              "    }\n",
              "  </style>\n",
              "\n",
              "      <script>\n",
              "        const buttonEl =\n",
              "          document.querySelector('#df-2cd23491-21fb-44e0-a1ba-309814c51650 button.colab-df-convert');\n",
              "        buttonEl.style.display =\n",
              "          google.colab.kernel.accessAllowed ? 'block' : 'none';\n",
              "\n",
              "        async function convertToInteractive(key) {\n",
              "          const element = document.querySelector('#df-2cd23491-21fb-44e0-a1ba-309814c51650');\n",
              "          const dataTable =\n",
              "            await google.colab.kernel.invokeFunction('convertToInteractive',\n",
              "                                                     [key], {});\n",
              "          if (!dataTable) return;\n",
              "\n",
              "          const docLinkHtml = 'Like what you see? Visit the ' +\n",
              "            '<a target=\"_blank\" href=https://colab.research.google.com/notebooks/data_table.ipynb>data table notebook</a>'\n",
              "            + ' to learn more about interactive tables.';\n",
              "          element.innerHTML = '';\n",
              "          dataTable['output_type'] = 'display_data';\n",
              "          await google.colab.output.renderOutput(dataTable, element);\n",
              "          const docLink = document.createElement('div');\n",
              "          docLink.innerHTML = docLinkHtml;\n",
              "          element.appendChild(docLink);\n",
              "        }\n",
              "      </script>\n",
              "    </div>\n",
              "  </div>\n",
              "  "
            ]
          },
          "metadata": {},
          "execution_count": 25
        }
      ]
    },
    {
      "cell_type": "markdown",
      "source": [
        "# 4\n",
        "Using SequentialFeatureSelector on a linear regression estimator select (with forward selection), select the same number of variables as in the previous question."
      ],
      "metadata": {
        "id": "s4u4u0KobKkm"
      }
    },
    {
      "cell_type": "markdown",
      "source": [
        "## a)\n",
        "\n",
        "Elaborate on why the 2 algorithms do not return the same variables and store the R2 onto the corresponding dataFrame.\n",
        "\n",
        "**Answer:**\n",
        "In my algorithm, the selection of variables is based on the p-value, which serves as a threshold. The p-value measures the strength of evidence against the null hypothesis, which assumes no statistical significance between a predictor variable and the response. A common threshold for accepting or rejecting the null hypothesis is a p-value of less than 0.05. It's worth mentioning that this threshold is not universal and may not be suitable for all data and research objectives.\n",
        "\n",
        "The SequentialFeatureSelector uses a greedy search algorithm to identify the most informative features, which is different from the approach used by my algorithm. Because the performance metric used in the SequentialFeatureSelector is also different, the selected features may not be the same as those identified by my algorithm. To obtain consistent results, it's important to use the same performance metric and hypothesis testing procedure as the SequentialFeatureSelector.\n"
      ],
      "metadata": {
        "id": "AcUJEo1o_pq_"
      }
    },
    {
      "cell_type": "code",
      "source": [
        "ols = LinearRegression(fit_intercept=False)\n",
        "sfs = SequentialFeatureSelector(ols, n_features_to_select= len(var_selected),\n",
        "                                direction='forward')\n",
        "sfs.fit(X_train, y_train)\n",
        "\n",
        "var_sfs = sfs.get_support(indices=True)\n",
        "\n",
        "ols_sfs = LinearRegression(fit_intercept=False).fit(X_train[:,var_sfs], y_train)\n",
        "y_pred = ols_sfs.predict(X_test[:, var_sfs])\n",
        "\n",
        "R2score = r2_score(y_true, y_pred)\n",
        "df_coef['SFS'] = R2score"
      ],
      "metadata": {
        "id": "VOlP5aMK_DRk"
      },
      "execution_count": null,
      "outputs": []
    },
    {
      "cell_type": "code",
      "source": [
        "print(\"Variables obtained with SFS:\", var_sfs, \"\\n\",\n",
        "      \"Variables obtained with FVS\", var_selected)"
      ],
      "metadata": {
        "colab": {
          "base_uri": "https://localhost:8080/"
        },
        "id": "2Egwz5ZxGt0J",
        "outputId": "bda6e5be-57de-4498-9a49-10391a07057d"
      },
      "execution_count": null,
      "outputs": [
        {
          "output_type": "stream",
          "name": "stdout",
          "text": [
            "Variables obtained with SFS: [ 0  1  3 18 19 21 34 35 39 40 43 46 47 48 49 57 72 74 82 87 90 97 99] \n",
            " Variables obtained with FVS [40, 7, 39, 6, 41, 8, 38, 5, 42, 9, 37, 4, 36, 10, 97, 3, 43, 11, 35, 2, 96, 12, 98]\n"
          ]
        }
      ]
    },
    {
      "cell_type": "code",
      "source": [
        "df_coef"
      ],
      "metadata": {
        "colab": {
          "base_uri": "https://localhost:8080/",
          "height": 81
        },
        "id": "Vl6DnnUAQpYD",
        "outputId": "25a179cc-dc38-4142-cc74-b0dbf3c3cd2f"
      },
      "execution_count": null,
      "outputs": [
        {
          "output_type": "execute_result",
          "data": {
            "text/plain": [
              "          Preprocessed Data  p-value<0.05      SFS\n",
              "R2 score           0.960055       0.95518  0.93873"
            ],
            "text/html": [
              "\n",
              "  <div id=\"df-d078bf59-b9b6-4cec-8650-e4cfed23deed\">\n",
              "    <div class=\"colab-df-container\">\n",
              "      <div>\n",
              "<style scoped>\n",
              "    .dataframe tbody tr th:only-of-type {\n",
              "        vertical-align: middle;\n",
              "    }\n",
              "\n",
              "    .dataframe tbody tr th {\n",
              "        vertical-align: top;\n",
              "    }\n",
              "\n",
              "    .dataframe thead th {\n",
              "        text-align: right;\n",
              "    }\n",
              "</style>\n",
              "<table border=\"1\" class=\"dataframe\">\n",
              "  <thead>\n",
              "    <tr style=\"text-align: right;\">\n",
              "      <th></th>\n",
              "      <th>Preprocessed Data</th>\n",
              "      <th>p-value&lt;0.05</th>\n",
              "      <th>SFS</th>\n",
              "    </tr>\n",
              "  </thead>\n",
              "  <tbody>\n",
              "    <tr>\n",
              "      <th>R2 score</th>\n",
              "      <td>0.960055</td>\n",
              "      <td>0.95518</td>\n",
              "      <td>0.93873</td>\n",
              "    </tr>\n",
              "  </tbody>\n",
              "</table>\n",
              "</div>\n",
              "      <button class=\"colab-df-convert\" onclick=\"convertToInteractive('df-d078bf59-b9b6-4cec-8650-e4cfed23deed')\"\n",
              "              title=\"Convert this dataframe to an interactive table.\"\n",
              "              style=\"display:none;\">\n",
              "        \n",
              "  <svg xmlns=\"http://www.w3.org/2000/svg\" height=\"24px\"viewBox=\"0 0 24 24\"\n",
              "       width=\"24px\">\n",
              "    <path d=\"M0 0h24v24H0V0z\" fill=\"none\"/>\n",
              "    <path d=\"M18.56 5.44l.94 2.06.94-2.06 2.06-.94-2.06-.94-.94-2.06-.94 2.06-2.06.94zm-11 1L8.5 8.5l.94-2.06 2.06-.94-2.06-.94L8.5 2.5l-.94 2.06-2.06.94zm10 10l.94 2.06.94-2.06 2.06-.94-2.06-.94-.94-2.06-.94 2.06-2.06.94z\"/><path d=\"M17.41 7.96l-1.37-1.37c-.4-.4-.92-.59-1.43-.59-.52 0-1.04.2-1.43.59L10.3 9.45l-7.72 7.72c-.78.78-.78 2.05 0 2.83L4 21.41c.39.39.9.59 1.41.59.51 0 1.02-.2 1.41-.59l7.78-7.78 2.81-2.81c.8-.78.8-2.07 0-2.86zM5.41 20L4 18.59l7.72-7.72 1.47 1.35L5.41 20z\"/>\n",
              "  </svg>\n",
              "      </button>\n",
              "      \n",
              "  <style>\n",
              "    .colab-df-container {\n",
              "      display:flex;\n",
              "      flex-wrap:wrap;\n",
              "      gap: 12px;\n",
              "    }\n",
              "\n",
              "    .colab-df-convert {\n",
              "      background-color: #E8F0FE;\n",
              "      border: none;\n",
              "      border-radius: 50%;\n",
              "      cursor: pointer;\n",
              "      display: none;\n",
              "      fill: #1967D2;\n",
              "      height: 32px;\n",
              "      padding: 0 0 0 0;\n",
              "      width: 32px;\n",
              "    }\n",
              "\n",
              "    .colab-df-convert:hover {\n",
              "      background-color: #E2EBFA;\n",
              "      box-shadow: 0px 1px 2px rgba(60, 64, 67, 0.3), 0px 1px 3px 1px rgba(60, 64, 67, 0.15);\n",
              "      fill: #174EA6;\n",
              "    }\n",
              "\n",
              "    [theme=dark] .colab-df-convert {\n",
              "      background-color: #3B4455;\n",
              "      fill: #D2E3FC;\n",
              "    }\n",
              "\n",
              "    [theme=dark] .colab-df-convert:hover {\n",
              "      background-color: #434B5C;\n",
              "      box-shadow: 0px 1px 3px 1px rgba(0, 0, 0, 0.15);\n",
              "      filter: drop-shadow(0px 1px 2px rgba(0, 0, 0, 0.3));\n",
              "      fill: #FFFFFF;\n",
              "    }\n",
              "  </style>\n",
              "\n",
              "      <script>\n",
              "        const buttonEl =\n",
              "          document.querySelector('#df-d078bf59-b9b6-4cec-8650-e4cfed23deed button.colab-df-convert');\n",
              "        buttonEl.style.display =\n",
              "          google.colab.kernel.accessAllowed ? 'block' : 'none';\n",
              "\n",
              "        async function convertToInteractive(key) {\n",
              "          const element = document.querySelector('#df-d078bf59-b9b6-4cec-8650-e4cfed23deed');\n",
              "          const dataTable =\n",
              "            await google.colab.kernel.invokeFunction('convertToInteractive',\n",
              "                                                     [key], {});\n",
              "          if (!dataTable) return;\n",
              "\n",
              "          const docLinkHtml = 'Like what you see? Visit the ' +\n",
              "            '<a target=\"_blank\" href=https://colab.research.google.com/notebooks/data_table.ipynb>data table notebook</a>'\n",
              "            + ' to learn more about interactive tables.';\n",
              "          element.innerHTML = '';\n",
              "          dataTable['output_type'] = 'display_data';\n",
              "          await google.colab.output.renderOutput(dataTable, element);\n",
              "          const docLink = document.createElement('div');\n",
              "          docLink.innerHTML = docLinkHtml;\n",
              "          element.appendChild(docLink);\n",
              "        }\n",
              "      </script>\n",
              "    </div>\n",
              "  </div>\n",
              "  "
            ]
          },
          "metadata": {},
          "execution_count": 28
        }
      ]
    },
    {
      "cell_type": "markdown",
      "source": [
        "# 5\n",
        "Code your own ridge estimator using expression derived in class. Test it for a penalty parameter α spaced evenly on a log scale 10e-9 to 10e2."
      ],
      "metadata": {
        "id": "CbzgEB3NN19B"
      }
    },
    {
      "cell_type": "code",
      "source": [
        "def ridge_estimate(X, Y, alpha):\n",
        "  n = X.shape[0]\n",
        "  Ip = np.identity(X.shape[1])\n",
        "  teta_ridge = np.linalg.inv(X.T @ X + (1/n)*alpha*Ip) @ X.T @ Y\n",
        "\n",
        "  return teta_ridge"
      ],
      "metadata": {
        "id": "Yq2N57qlGebx"
      },
      "execution_count": null,
      "outputs": []
    },
    {
      "cell_type": "markdown",
      "source": [
        "## a)\n",
        "\n",
        "Plot how the values of the coefficients change with α.\n",
        "\n",
        "**Answer:**"
      ],
      "metadata": {
        "id": "QCQAyz3LU9IB"
      }
    },
    {
      "cell_type": "code",
      "source": [
        "alpha = np.logspace(-9, -2, 100)\n",
        "coef = []\n",
        "y_pred_ridge = []\n",
        "for a in alpha:\n",
        "  est_rdg = ridge_estimate(X_train, y_train, a)\n",
        "  coef.append(est_rdg)\n",
        "  #comparison\n",
        "  ridge = Ridge(a, fit_intercept = False, solver=\"svd\").fit(X_train, y_train)\n",
        "  y_pred_ridge.append(ridge.predict(X_test))\n",
        "\n",
        "y_pred_ridge = np.array(y_pred_ridge)"
      ],
      "metadata": {
        "id": "ODI5qGxyVZYS"
      },
      "execution_count": null,
      "outputs": []
    },
    {
      "cell_type": "code",
      "source": [
        "for i in range(100):\n",
        "  aux = []\n",
        "  for vec in coef:\n",
        "    aux.append(vec[i])\n",
        "\n",
        "  aux = np.array(aux)\n",
        "  plt.plot(alpha,aux)\n",
        "  plt.xscale('log')\n",
        "\n",
        "plt.grid()\n",
        "plt.title(r\"Coefficients x $\\alpha$\")\n",
        "plt.ylabel(\"Coefficient values\")\n",
        "plt.xlabel(r\"$\\alpha$\")\n",
        "plt.show()"
      ],
      "metadata": {
        "colab": {
          "base_uri": "https://localhost:8080/",
          "height": 300
        },
        "id": "CVgDLZzVfXqL",
        "outputId": "15800e44-8bd9-4e49-dc04-eefdb7642b2b"
      },
      "execution_count": null,
      "outputs": [
        {
          "output_type": "display_data",
          "data": {
            "text/plain": [
              "<Figure size 432x288 with 1 Axes>"
            ],
            "image/png": "[encoded data removed]"
          },
          "metadata": {
            "needs_background": "light"
          }
        }
      ]
    },
    {
      "cell_type": "markdown",
      "source": [
        "## b)\n",
        "\n",
        "Plot how MSE of both the train and test sets change with α. Signal the minimum with a point.\n",
        "\n",
        "**Answer:**"
      ],
      "metadata": {
        "id": "MBGpUPB3ivne"
      }
    },
    {
      "cell_type": "code",
      "source": [
        "mse_train = []\n",
        "mse_test = []\n",
        "mse_test_comparison = []\n",
        "for ind, vec in enumerate(coef):\n",
        "  y_pred_train = X_train @ vec\n",
        "  y_pred_test = X_test @ vec\n",
        "  mse_train.append(mean_squared_error(y_train, y_pred_train))\n",
        "  mse_test.append(mean_squared_error(y_test, y_pred_test))\n",
        "  mse_test_comparison.append(mean_squared_error(y_test, y_pred_ridge[ind]))\n",
        "\n",
        "mse_train = np.array(mse_train)\n",
        "mse_test = np.array(mse_test)\n",
        "mse_test_comparison = np.array(mse_test_comparison)\n",
        "plt.plot(alpha, mse_train, label='MSE (train)')\n",
        "plt.plot(alpha, mse_test, label='MSE (test)')\n",
        "plt.plot(alpha, mse_test_comparison, label='MSE sklearn')\n",
        "plt.xscale('log')\n",
        "plt.xlabel('Alpha')\n",
        "plt.ylabel('MSE')\n",
        "argmin = np.argmin(mse_test)\n",
        "best_alpha = alpha[argmin]\n",
        "plt.scatter(best_alpha, mse_test[argmin], marker=\"o\", s=35, color='green', label=\"min test\")\n",
        "plt.legend()\n",
        "plt.show()"
      ],
      "metadata": {
        "colab": {
          "base_uri": "https://localhost:8080/",
          "height": 283
        },
        "id": "g5h_FKbRjH8b",
        "outputId": "58af71dd-bb12-41dd-b8e3-faee31870764"
      },
      "execution_count": null,
      "outputs": [
        {
          "output_type": "display_data",
          "data": {
            "text/plain": [
              "<Figure size 432x288 with 1 Axes>"
            ],
            "image/png": "[encoded data removed]"
          },
          "metadata": {
            "needs_background": "light"
          }
        }
      ]
    },
    {
      "cell_type": "markdown",
      "source": [
        "## c)\n",
        "\n",
        "For the best performing value of α (the one with smallest training error) store the R2 results.\n",
        "\n",
        "**Answer:**"
      ],
      "metadata": {
        "id": "MMjZEwICbzOw"
      }
    },
    {
      "cell_type": "code",
      "source": [
        "rdg_alpha = ridge_estimate(X_train, y_train, best_alpha)\n",
        "y_pred = X_test @ rdg_alpha\n",
        "\n",
        "R2score = r2_score(y_true, y_pred)\n",
        "df_coef['Ridge'] = R2score"
      ],
      "metadata": {
        "id": "cbuP9v9C7jOQ"
      },
      "execution_count": null,
      "outputs": []
    },
    {
      "cell_type": "code",
      "source": [
        "df_coef"
      ],
      "metadata": {
        "colab": {
          "base_uri": "https://localhost:8080/",
          "height": 81
        },
        "id": "09JaH-U4gDp0",
        "outputId": "8d421b93-1deb-4002-d452-d71b14829c5e"
      },
      "execution_count": null,
      "outputs": [
        {
          "output_type": "execute_result",
          "data": {
            "text/plain": [
              "          Preprocessed Data  p-value<0.05      SFS     Ridge\n",
              "R2 score           0.960055       0.95518  0.93873  0.976267"
            ],
            "text/html": [
              "\n",
              "  <div id=\"df-2b682809-7ce5-4148-ba8c-467f700fcc41\">\n",
              "    <div class=\"colab-df-container\">\n",
              "      <div>\n",
              "<style scoped>\n",
              "    .dataframe tbody tr th:only-of-type {\n",
              "        vertical-align: middle;\n",
              "    }\n",
              "\n",
              "    .dataframe tbody tr th {\n",
              "        vertical-align: top;\n",
              "    }\n",
              "\n",
              "    .dataframe thead th {\n",
              "        text-align: right;\n",
              "    }\n",
              "</style>\n",
              "<table border=\"1\" class=\"dataframe\">\n",
              "  <thead>\n",
              "    <tr style=\"text-align: right;\">\n",
              "      <th></th>\n",
              "      <th>Preprocessed Data</th>\n",
              "      <th>p-value&lt;0.05</th>\n",
              "      <th>SFS</th>\n",
              "      <th>Ridge</th>\n",
              "    </tr>\n",
              "  </thead>\n",
              "  <tbody>\n",
              "    <tr>\n",
              "      <th>R2 score</th>\n",
              "      <td>0.960055</td>\n",
              "      <td>0.95518</td>\n",
              "      <td>0.93873</td>\n",
              "      <td>0.976267</td>\n",
              "    </tr>\n",
              "  </tbody>\n",
              "</table>\n",
              "</div>\n",
              "      <button class=\"colab-df-convert\" onclick=\"convertToInteractive('df-2b682809-7ce5-4148-ba8c-467f700fcc41')\"\n",
              "              title=\"Convert this dataframe to an interactive table.\"\n",
              "              style=\"display:none;\">\n",
              "        \n",
              "  <svg xmlns=\"http://www.w3.org/2000/svg\" height=\"24px\"viewBox=\"0 0 24 24\"\n",
              "       width=\"24px\">\n",
              "    <path d=\"M0 0h24v24H0V0z\" fill=\"none\"/>\n",
              "    <path d=\"M18.56 5.44l.94 2.06.94-2.06 2.06-.94-2.06-.94-.94-2.06-.94 2.06-2.06.94zm-11 1L8.5 8.5l.94-2.06 2.06-.94-2.06-.94L8.5 2.5l-.94 2.06-2.06.94zm10 10l.94 2.06.94-2.06 2.06-.94-2.06-.94-.94-2.06-.94 2.06-2.06.94z\"/><path d=\"M17.41 7.96l-1.37-1.37c-.4-.4-.92-.59-1.43-.59-.52 0-1.04.2-1.43.59L10.3 9.45l-7.72 7.72c-.78.78-.78 2.05 0 2.83L4 21.41c.39.39.9.59 1.41.59.51 0 1.02-.2 1.41-.59l7.78-7.78 2.81-2.81c.8-.78.8-2.07 0-2.86zM5.41 20L4 18.59l7.72-7.72 1.47 1.35L5.41 20z\"/>\n",
              "  </svg>\n",
              "      </button>\n",
              "      \n",
              "  <style>\n",
              "    .colab-df-container {\n",
              "      display:flex;\n",
              "      flex-wrap:wrap;\n",
              "      gap: 12px;\n",
              "    }\n",
              "\n",
              "    .colab-df-convert {\n",
              "      background-color: #E8F0FE;\n",
              "      border: none;\n",
              "      border-radius: 50%;\n",
              "      cursor: pointer;\n",
              "      display: none;\n",
              "      fill: #1967D2;\n",
              "      height: 32px;\n",
              "      padding: 0 0 0 0;\n",
              "      width: 32px;\n",
              "    }\n",
              "\n",
              "    .colab-df-convert:hover {\n",
              "      background-color: #E2EBFA;\n",
              "      box-shadow: 0px 1px 2px rgba(60, 64, 67, 0.3), 0px 1px 3px 1px rgba(60, 64, 67, 0.15);\n",
              "      fill: #174EA6;\n",
              "    }\n",
              "\n",
              "    [theme=dark] .colab-df-convert {\n",
              "      background-color: #3B4455;\n",
              "      fill: #D2E3FC;\n",
              "    }\n",
              "\n",
              "    [theme=dark] .colab-df-convert:hover {\n",
              "      background-color: #434B5C;\n",
              "      box-shadow: 0px 1px 3px 1px rgba(0, 0, 0, 0.15);\n",
              "      filter: drop-shadow(0px 1px 2px rgba(0, 0, 0, 0.3));\n",
              "      fill: #FFFFFF;\n",
              "    }\n",
              "  </style>\n",
              "\n",
              "      <script>\n",
              "        const buttonEl =\n",
              "          document.querySelector('#df-2b682809-7ce5-4148-ba8c-467f700fcc41 button.colab-df-convert');\n",
              "        buttonEl.style.display =\n",
              "          google.colab.kernel.accessAllowed ? 'block' : 'none';\n",
              "\n",
              "        async function convertToInteractive(key) {\n",
              "          const element = document.querySelector('#df-2b682809-7ce5-4148-ba8c-467f700fcc41');\n",
              "          const dataTable =\n",
              "            await google.colab.kernel.invokeFunction('convertToInteractive',\n",
              "                                                     [key], {});\n",
              "          if (!dataTable) return;\n",
              "\n",
              "          const docLinkHtml = 'Like what you see? Visit the ' +\n",
              "            '<a target=\"_blank\" href=https://colab.research.google.com/notebooks/data_table.ipynb>data table notebook</a>'\n",
              "            + ' to learn more about interactive tables.';\n",
              "          element.innerHTML = '';\n",
              "          dataTable['output_type'] = 'display_data';\n",
              "          await google.colab.output.renderOutput(dataTable, element);\n",
              "          const docLink = document.createElement('div');\n",
              "          docLink.innerHTML = docLinkHtml;\n",
              "          element.appendChild(docLink);\n",
              "        }\n",
              "      </script>\n",
              "    </div>\n",
              "  </div>\n",
              "  "
            ]
          },
          "metadata": {},
          "execution_count": 34
        }
      ]
    },
    {
      "cell_type": "markdown",
      "source": [
        "# 6\n",
        "Use the sklearn version of the Lasso. Test it for a penalty parameter α space evenly on a log scale 10e-5 to 10e-2."
      ],
      "metadata": {
        "id": "4AOAxmvKgfh_"
      }
    },
    {
      "cell_type": "code",
      "source": [
        "alpha = np.logspace(-5, -2, 100)"
      ],
      "metadata": {
        "id": "CXT4_VhAgE2R"
      },
      "execution_count": null,
      "outputs": []
    },
    {
      "cell_type": "markdown",
      "source": [
        "## a)\n",
        "\n",
        "To avoid having warnings and error you want to decrease the parameter tol or increase max_iter. Elaborate on why these warning arise and on the solution\n",
        "\n",
        "**Answer:**\n",
        "\n",
        "The Lasso algorithm in sklearn raises a warning when the parameters tol and max_iter are adjusted in a way that could affect its convergence. The tol parameter is responsible for setting the tolerance for the optimization, while max_iter sets the maximum number of iterations the algorithm can perform.\n",
        "\n",
        "Increasing tol can lead to a reduction in the optimization's precision, and reducing max_iter can limit the number of steps the algorithm takes to find the optimal solution. As a result, the algorithm may terminate before reaching the optimal solution, leading to suboptimal results.\n",
        "\n",
        "To prevent convergence issues, it is essential to strike a balance between tol and max_iter values. By selecting appropriate values for these parameters, it is possible to ensure that the Lasso algorithm converges to the optimal solution."
      ],
      "metadata": {
        "id": "gXBtVVwLqDW8"
      }
    },
    {
      "cell_type": "markdown",
      "source": [
        "## b)\n",
        "Plot the number of coefficients that are different from 0 for each value of α.\n",
        "\n",
        "**Answer:**"
      ],
      "metadata": {
        "id": "wx1upg2qw9jy"
      }
    },
    {
      "cell_type": "code",
      "source": [
        "N_nonzero = []\n",
        "mse_lasso_test = []\n",
        "mse_lasso_train = []\n",
        "coef_lasso = []\n",
        "for a in alpha:\n",
        "  lasso = Lasso(alpha=a, tol=1e-1, max_iter=20000)\n",
        "  lasso.fit(X_train, y_train)\n",
        "  y_pred_lasso_test = lasso.predict(X_test)\n",
        "  y_pred_lasso_train = lasso.predict(X_train)\n",
        "  mse_lasso_test.append(mean_squared_error(y_test, y_pred_lasso_test))\n",
        "  mse_lasso_train.append(mean_squared_error(y_train, y_pred_lasso_train))\n",
        "  coef_lasso.append(lasso.coef_)\n",
        "  nonzero_coef = np.count_nonzero(lasso.coef_)\n",
        "  N_nonzero.append(nonzero_coef)\n",
        "\n",
        "mse_lasso_test = np.array(mse_lasso_test)\n",
        "mse_lasso_train = np.array(mse_lasso_train)"
      ],
      "metadata": {
        "id": "q0p-67n8wJ3Z"
      },
      "execution_count": null,
      "outputs": []
    },
    {
      "cell_type": "code",
      "source": [
        "plt.plot(alpha, N_nonzero)\n",
        "plt.xscale('log')\n",
        "plt.xlabel('alpha')\n",
        "plt.ylabel('Number of non-zero coefficients')\n",
        "plt.title('Number of non-zero coefficients vs alpha');"
      ],
      "metadata": {
        "colab": {
          "base_uri": "https://localhost:8080/",
          "height": 299
        },
        "id": "bMm2RWUa2iL_",
        "outputId": "c3a37152-05e3-42a1-dd70-ace0ab48abe3"
      },
      "execution_count": null,
      "outputs": [
        {
          "output_type": "display_data",
          "data": {
            "text/plain": [
              "<Figure size 432x288 with 1 Axes>"
            ],
            "image/png": "[encoded data removed]"
          },
          "metadata": {
            "needs_background": "light"
          }
        }
      ]
    },
    {
      "cell_type": "markdown",
      "source": [
        "## c)\n",
        "Plot how MSE of both the train and test sets change with α. Signal the minimum with a point.\n",
        "\n",
        "**Answer:**"
      ],
      "metadata": {
        "id": "dG3i2huV8Ruq"
      }
    },
    {
      "cell_type": "code",
      "source": [
        "plt.plot(alpha, mse_lasso_test, label='MSE(Test)')\n",
        "plt.plot(alpha, mse_lasso_train, label='MSE(Train)')\n",
        "plt.xscale('log')\n",
        "plt.xlabel('alpha')\n",
        "plt.ylabel('MSE(Lasso)')\n",
        "argmin = np.argmin(mse_lasso_test)\n",
        "best_alpha = alpha[argmin]\n",
        "plt.scatter(best_alpha, mse_lasso_test[argmin], marker=\"o\", s=35, color='green', label=\"min test\")\n",
        "plt.legend()\n",
        "plt.title('MSE vs alpha');"
      ],
      "metadata": {
        "colab": {
          "base_uri": "https://localhost:8080/",
          "height": 299
        },
        "id": "wrO8i0Yf4FQ9",
        "outputId": "5dd0d1cc-60f5-418a-9fa9-af6b4a870d98"
      },
      "execution_count": null,
      "outputs": [
        {
          "output_type": "display_data",
          "data": {
            "text/plain": [
              "<Figure size 432x288 with 1 Axes>"
            ],
            "image/png": "[encoded data removed]"
          },
          "metadata": {
            "needs_background": "light"
          }
        }
      ]
    },
    {
      "cell_type": "markdown",
      "source": [
        "## d)\n",
        "For the best performing value of α on the test set store the R2 results\n",
        "\n",
        "**Answer:**"
      ],
      "metadata": {
        "id": "0XQ0V4G2g2fQ"
      }
    },
    {
      "cell_type": "code",
      "source": [
        "lasso = Lasso(alpha=best_alpha, tol=1e-1, max_iter=20000)\n",
        "lasso.fit(X_train, y_train)\n",
        "y_pred_lasso_alpha = lasso.predict(X_test)\n",
        "\n",
        "R2score = r2_score(y_true, y_pred_lasso_alpha)\n",
        "df_coef['Lasso'] = R2score\n",
        "df_coef"
      ],
      "metadata": {
        "colab": {
          "base_uri": "https://localhost:8080/",
          "height": 81
        },
        "id": "stVI_bpEJaQS",
        "outputId": "b2697c74-da84-44cf-e142-d57eabdc6123"
      },
      "execution_count": null,
      "outputs": [
        {
          "output_type": "execute_result",
          "data": {
            "text/plain": [
              "          Preprocessed Data  p-value<0.05      SFS     Ridge     Lasso\n",
              "R2 score           0.960055       0.95518  0.93873  0.976267  0.915196"
            ],
            "text/html": [
              "\n",
              "  <div id=\"df-4f319216-23da-4182-b790-51358a53e8e8\">\n",
              "    <div class=\"colab-df-container\">\n",
              "      <div>\n",
              "<style scoped>\n",
              "    .dataframe tbody tr th:only-of-type {\n",
              "        vertical-align: middle;\n",
              "    }\n",
              "\n",
              "    .dataframe tbody tr th {\n",
              "        vertical-align: top;\n",
              "    }\n",
              "\n",
              "    .dataframe thead th {\n",
              "        text-align: right;\n",
              "    }\n",
              "</style>\n",
              "<table border=\"1\" class=\"dataframe\">\n",
              "  <thead>\n",
              "    <tr style=\"text-align: right;\">\n",
              "      <th></th>\n",
              "      <th>Preprocessed Data</th>\n",
              "      <th>p-value&lt;0.05</th>\n",
              "      <th>SFS</th>\n",
              "      <th>Ridge</th>\n",
              "      <th>Lasso</th>\n",
              "    </tr>\n",
              "  </thead>\n",
              "  <tbody>\n",
              "    <tr>\n",
              "      <th>R2 score</th>\n",
              "      <td>0.960055</td>\n",
              "      <td>0.95518</td>\n",
              "      <td>0.93873</td>\n",
              "      <td>0.976267</td>\n",
              "      <td>0.915196</td>\n",
              "    </tr>\n",
              "  </tbody>\n",
              "</table>\n",
              "</div>\n",
              "      <button class=\"colab-df-convert\" onclick=\"convertToInteractive('df-4f319216-23da-4182-b790-51358a53e8e8')\"\n",
              "              title=\"Convert this dataframe to an interactive table.\"\n",
              "              style=\"display:none;\">\n",
              "        \n",
              "  <svg xmlns=\"http://www.w3.org/2000/svg\" height=\"24px\"viewBox=\"0 0 24 24\"\n",
              "       width=\"24px\">\n",
              "    <path d=\"M0 0h24v24H0V0z\" fill=\"none\"/>\n",
              "    <path d=\"M18.56 5.44l.94 2.06.94-2.06 2.06-.94-2.06-.94-.94-2.06-.94 2.06-2.06.94zm-11 1L8.5 8.5l.94-2.06 2.06-.94-2.06-.94L8.5 2.5l-.94 2.06-2.06.94zm10 10l.94 2.06.94-2.06 2.06-.94-2.06-.94-.94-2.06-.94 2.06-2.06.94z\"/><path d=\"M17.41 7.96l-1.37-1.37c-.4-.4-.92-.59-1.43-.59-.52 0-1.04.2-1.43.59L10.3 9.45l-7.72 7.72c-.78.78-.78 2.05 0 2.83L4 21.41c.39.39.9.59 1.41.59.51 0 1.02-.2 1.41-.59l7.78-7.78 2.81-2.81c.8-.78.8-2.07 0-2.86zM5.41 20L4 18.59l7.72-7.72 1.47 1.35L5.41 20z\"/>\n",
              "  </svg>\n",
              "      </button>\n",
              "      \n",
              "  <style>\n",
              "    .colab-df-container {\n",
              "      display:flex;\n",
              "      flex-wrap:wrap;\n",
              "      gap: 12px;\n",
              "    }\n",
              "\n",
              "    .colab-df-convert {\n",
              "      background-color: #E8F0FE;\n",
              "      border: none;\n",
              "      border-radius: 50%;\n",
              "      cursor: pointer;\n",
              "      display: none;\n",
              "      fill: #1967D2;\n",
              "      height: 32px;\n",
              "      padding: 0 0 0 0;\n",
              "      width: 32px;\n",
              "    }\n",
              "\n",
              "    .colab-df-convert:hover {\n",
              "      background-color: #E2EBFA;\n",
              "      box-shadow: 0px 1px 2px rgba(60, 64, 67, 0.3), 0px 1px 3px 1px rgba(60, 64, 67, 0.15);\n",
              "      fill: #174EA6;\n",
              "    }\n",
              "\n",
              "    [theme=dark] .colab-df-convert {\n",
              "      background-color: #3B4455;\n",
              "      fill: #D2E3FC;\n",
              "    }\n",
              "\n",
              "    [theme=dark] .colab-df-convert:hover {\n",
              "      background-color: #434B5C;\n",
              "      box-shadow: 0px 1px 3px 1px rgba(0, 0, 0, 0.15);\n",
              "      filter: drop-shadow(0px 1px 2px rgba(0, 0, 0, 0.3));\n",
              "      fill: #FFFFFF;\n",
              "    }\n",
              "  </style>\n",
              "\n",
              "      <script>\n",
              "        const buttonEl =\n",
              "          document.querySelector('#df-4f319216-23da-4182-b790-51358a53e8e8 button.colab-df-convert');\n",
              "        buttonEl.style.display =\n",
              "          google.colab.kernel.accessAllowed ? 'block' : 'none';\n",
              "\n",
              "        async function convertToInteractive(key) {\n",
              "          const element = document.querySelector('#df-4f319216-23da-4182-b790-51358a53e8e8');\n",
              "          const dataTable =\n",
              "            await google.colab.kernel.invokeFunction('convertToInteractive',\n",
              "                                                     [key], {});\n",
              "          if (!dataTable) return;\n",
              "\n",
              "          const docLinkHtml = 'Like what you see? Visit the ' +\n",
              "            '<a target=\"_blank\" href=https://colab.research.google.com/notebooks/data_table.ipynb>data table notebook</a>'\n",
              "            + ' to learn more about interactive tables.';\n",
              "          element.innerHTML = '';\n",
              "          dataTable['output_type'] = 'display_data';\n",
              "          await google.colab.output.renderOutput(dataTable, element);\n",
              "          const docLink = document.createElement('div');\n",
              "          docLink.innerHTML = docLinkHtml;\n",
              "          element.appendChild(docLink);\n",
              "        }\n",
              "      </script>\n",
              "    </div>\n",
              "  </div>\n",
              "  "
            ]
          },
          "metadata": {},
          "execution_count": 39
        }
      ]
    },
    {
      "cell_type": "markdown",
      "source": [
        "# 7\n",
        "Code your own version of the crossvalidation. Preferable, in the same way as sklearn’s version, the\n",
        "length of every pair of folds should differ at most by one. Use the sklearn version of the Elastic\n",
        "net. Validate with a cross-validation that you implement. Test it for a penalty parameter α-ridge\n",
        "spaced evenly on a log scale 10e-10 to 10e3 and α-lasso in [0, 0.1, 0.5, 0.7, 0.9, 0.95, 0.99].\n",
        "\n",
        "**Answer:**"
      ],
      "metadata": {
        "id": "jMe_7Cv4hDrn"
      }
    },
    {
      "cell_type": "code",
      "source": [
        "def cross_validation(X, y, alpha_lasso, alpha_ridge, k=5):\n",
        "\n",
        "  n = X.shape[0]\n",
        "  # fold_size = n // k\n",
        "  # fold_size = KFold(n_splits = k)\n",
        "  fold_size = TimeSeriesSplit(n_splits=k)\n",
        "  indices = np.random.permutation(n)\n",
        "  r2scores = []\n",
        "  coefs_model = []\n",
        "  mean_mse = []\n",
        "  alphas = []\n",
        "  mean_lasso = []\n",
        "  alphas_lasso = []\n",
        "  store_argming = []\n",
        "  gammas_final = []\n",
        "\n",
        "  best_gamma = []\n",
        "  best_coefg = []\n",
        "\n",
        "  count1 = 0\n",
        "  count2 = 0\n",
        "  count3 = 0\n",
        "  fsizesplit = fold_size.split(X)\n",
        "\n",
        "  for a in alpha_lasso:\n",
        "    gammas = []\n",
        "    mean_gamma = []\n",
        "    for l in alpha_ridge:\n",
        "\n",
        "      alpha = a + l\n",
        "      l1_ratio = a/(a+l)\n",
        "      mse_kfold = []\n",
        "      coefs_gamma=[]\n",
        "      for train_index, test_index in fold_size.split(X):\n",
        "\n",
        "        X_train, X_test = X[train_index,:], X[test_index, :]\n",
        "        y_train, y_test = y[train_index], y[test_index]\n",
        "        model = ElasticNet(alpha=alpha, l1_ratio=l1_ratio,\n",
        "                           tol=5e-1, max_iter=1000)\n",
        "        model.fit(X_train, y_train)\n",
        "        coefs_model.append(model.coef_)\n",
        "        coefs_gamma.append(model.coef_)\n",
        "        y_pred = model.predict(X_test)\n",
        "        mse_kfold.append(mean_squared_error(y_test, y_pred))\n",
        "      argmin = np.argmin(np.array(mse_kfold))\n",
        "      best_coefg.append(np.array(coefs_gamma)[argmin,:])\n",
        "\n",
        "      gammas.append(a+l)\n",
        "      gammas_final.append(a+l)\n",
        "\n",
        "      mean_mse.append(np.mean(mse_kfold))\n",
        "      mean_gamma.append(np.mean(mse_kfold))\n",
        "      alphas.append([l, a])\n",
        "\n",
        "    argmin_gamma = np.argmin(np.array(mean_gamma))\n",
        "    store_argming.append(argmin_gamma)\n",
        "    best_gamma.append(gammas[argmin_gamma])\n",
        "    mean_lasso.append(np.mean(mean_mse))\n",
        "    alphas_lasso.append(a)\n",
        "  argmin = np.argmin(np.array(mean_mse))\n",
        "  best_param = alphas[argmin]\n",
        "\n",
        "  return best_param, best_gamma, store_argming, best_coefg, gammas_final\n"
      ],
      "metadata": {
        "id": "3RT9-OOTK5C7"
      },
      "execution_count": null,
      "outputs": []
    },
    {
      "cell_type": "code",
      "source": [
        "alpha_ridge = np.logspace(-10, 3,100)\n",
        "alpha_lasso = [0, 0.1, 0.5, 0.7, 0.9, 0.95, 0.99]"
      ],
      "metadata": {
        "id": "i419OBIVuqoK"
      },
      "execution_count": null,
      "outputs": []
    },
    {
      "cell_type": "code",
      "source": [
        "best_param, best_g, argming, coefg, gammas = cross_validation(X_train, y_train, alpha_lasso, alpha_ridge)"
      ],
      "metadata": {
        "id": "gxSdfF-3uNW1"
      },
      "execution_count": null,
      "outputs": []
    },
    {
      "cell_type": "code",
      "source": [
        "alpha = best_param[1] + best_param[0]\n",
        "l1_ratio = best_param[1]/(best_param[1]+best_param[0])\n",
        "\n",
        "model = ElasticNet(alpha=alpha, l1_ratio=l1_ratio,\n",
        "                           tol=5e-1, max_iter=1000)\n",
        "model.fit(X_train, y_train)\n",
        "\n",
        "y_pred_elastic = model.predict(X_test)\n",
        "\n",
        "R2score = r2_score(y_true, y_pred_elastic)\n",
        "df_coef['ElasticNet'] = R2score\n",
        "df_coef"
      ],
      "metadata": {
        "colab": {
          "base_uri": "https://localhost:8080/",
          "height": 125
        },
        "id": "KDCGBwcDGiSU",
        "outputId": "6407ad5d-96a3-4c13-fdfe-4513550029b9"
      },
      "execution_count": null,
      "outputs": [
        {
          "output_type": "execute_result",
          "data": {
            "text/plain": [
              "          Preprocessed Data  p-value<0.05      SFS     Ridge     Lasso  \\\n",
              "R2 score           0.960055       0.95518  0.93873  0.976267  0.915196   \n",
              "\n",
              "          ElasticNet  \n",
              "R2 score     0.11788  "
            ],
            "text/html": [
              "\n",
              "  <div id=\"df-346fb798-b125-48aa-87c9-74a583a06963\">\n",
              "    <div class=\"colab-df-container\">\n",
              "      <div>\n",
              "<style scoped>\n",
              "    .dataframe tbody tr th:only-of-type {\n",
              "        vertical-align: middle;\n",
              "    }\n",
              "\n",
              "    .dataframe tbody tr th {\n",
              "        vertical-align: top;\n",
              "    }\n",
              "\n",
              "    .dataframe thead th {\n",
              "        text-align: right;\n",
              "    }\n",
              "</style>\n",
              "<table border=\"1\" class=\"dataframe\">\n",
              "  <thead>\n",
              "    <tr style=\"text-align: right;\">\n",
              "      <th></th>\n",
              "      <th>Preprocessed Data</th>\n",
              "      <th>p-value&lt;0.05</th>\n",
              "      <th>SFS</th>\n",
              "      <th>Ridge</th>\n",
              "      <th>Lasso</th>\n",
              "      <th>ElasticNet</th>\n",
              "    </tr>\n",
              "  </thead>\n",
              "  <tbody>\n",
              "    <tr>\n",
              "      <th>R2 score</th>\n",
              "      <td>0.960055</td>\n",
              "      <td>0.95518</td>\n",
              "      <td>0.93873</td>\n",
              "      <td>0.976267</td>\n",
              "      <td>0.915196</td>\n",
              "      <td>0.11788</td>\n",
              "    </tr>\n",
              "  </tbody>\n",
              "</table>\n",
              "</div>\n",
              "      <button class=\"colab-df-convert\" onclick=\"convertToInteractive('df-346fb798-b125-48aa-87c9-74a583a06963')\"\n",
              "              title=\"Convert this dataframe to an interactive table.\"\n",
              "              style=\"display:none;\">\n",
              "        \n",
              "  <svg xmlns=\"http://www.w3.org/2000/svg\" height=\"24px\"viewBox=\"0 0 24 24\"\n",
              "       width=\"24px\">\n",
              "    <path d=\"M0 0h24v24H0V0z\" fill=\"none\"/>\n",
              "    <path d=\"M18.56 5.44l.94 2.06.94-2.06 2.06-.94-2.06-.94-.94-2.06-.94 2.06-2.06.94zm-11 1L8.5 8.5l.94-2.06 2.06-.94-2.06-.94L8.5 2.5l-.94 2.06-2.06.94zm10 10l.94 2.06.94-2.06 2.06-.94-2.06-.94-.94-2.06-.94 2.06-2.06.94z\"/><path d=\"M17.41 7.96l-1.37-1.37c-.4-.4-.92-.59-1.43-.59-.52 0-1.04.2-1.43.59L10.3 9.45l-7.72 7.72c-.78.78-.78 2.05 0 2.83L4 21.41c.39.39.9.59 1.41.59.51 0 1.02-.2 1.41-.59l7.78-7.78 2.81-2.81c.8-.78.8-2.07 0-2.86zM5.41 20L4 18.59l7.72-7.72 1.47 1.35L5.41 20z\"/>\n",
              "  </svg>\n",
              "      </button>\n",
              "      \n",
              "  <style>\n",
              "    .colab-df-container {\n",
              "      display:flex;\n",
              "      flex-wrap:wrap;\n",
              "      gap: 12px;\n",
              "    }\n",
              "\n",
              "    .colab-df-convert {\n",
              "      background-color: #E8F0FE;\n",
              "      border: none;\n",
              "      border-radius: 50%;\n",
              "      cursor: pointer;\n",
              "      display: none;\n",
              "      fill: #1967D2;\n",
              "      height: 32px;\n",
              "      padding: 0 0 0 0;\n",
              "      width: 32px;\n",
              "    }\n",
              "\n",
              "    .colab-df-convert:hover {\n",
              "      background-color: #E2EBFA;\n",
              "      box-shadow: 0px 1px 2px rgba(60, 64, 67, 0.3), 0px 1px 3px 1px rgba(60, 64, 67, 0.15);\n",
              "      fill: #174EA6;\n",
              "    }\n",
              "\n",
              "    [theme=dark] .colab-df-convert {\n",
              "      background-color: #3B4455;\n",
              "      fill: #D2E3FC;\n",
              "    }\n",
              "\n",
              "    [theme=dark] .colab-df-convert:hover {\n",
              "      background-color: #434B5C;\n",
              "      box-shadow: 0px 1px 3px 1px rgba(0, 0, 0, 0.15);\n",
              "      filter: drop-shadow(0px 1px 2px rgba(0, 0, 0, 0.3));\n",
              "      fill: #FFFFFF;\n",
              "    }\n",
              "  </style>\n",
              "\n",
              "      <script>\n",
              "        const buttonEl =\n",
              "          document.querySelector('#df-346fb798-b125-48aa-87c9-74a583a06963 button.colab-df-convert');\n",
              "        buttonEl.style.display =\n",
              "          google.colab.kernel.accessAllowed ? 'block' : 'none';\n",
              "\n",
              "        async function convertToInteractive(key) {\n",
              "          const element = document.querySelector('#df-346fb798-b125-48aa-87c9-74a583a06963');\n",
              "          const dataTable =\n",
              "            await google.colab.kernel.invokeFunction('convertToInteractive',\n",
              "                                                     [key], {});\n",
              "          if (!dataTable) return;\n",
              "\n",
              "          const docLinkHtml = 'Like what you see? Visit the ' +\n",
              "            '<a target=\"_blank\" href=https://colab.research.google.com/notebooks/data_table.ipynb>data table notebook</a>'\n",
              "            + ' to learn more about interactive tables.';\n",
              "          element.innerHTML = '';\n",
              "          dataTable['output_type'] = 'display_data';\n",
              "          await google.colab.output.renderOutput(dataTable, element);\n",
              "          const docLink = document.createElement('div');\n",
              "          docLink.innerHTML = docLinkHtml;\n",
              "          element.appendChild(docLink);\n",
              "        }\n",
              "      </script>\n",
              "    </div>\n",
              "  </div>\n",
              "  "
            ]
          },
          "metadata": {},
          "execution_count": 206
        }
      ]
    },
    {
      "cell_type": "code",
      "source": [
        "gammas = np.array(gammas)\n",
        "coefg = np.array(coefg)\n",
        "\n",
        "aux = []\n",
        "for vec in coefg:\n",
        "  aux.append(vec)\n",
        "\n",
        "aux = np.array(aux)\n",
        "plt.plot(gammas, aux)\n",
        "plt.xscale('log')\n",
        "plt.grid()\n",
        "plt.title(r\"Coefficients x $\\gamma$\")\n",
        "plt.ylabel(\"Coefficient values\")\n",
        "plt.xlabel(r\"$\\gamma$\")\n",
        "plt.axvline(x=best_param[0])\n",
        "plt.xlim(left=10e-3)\n",
        "plt.show()"
      ],
      "metadata": {
        "colab": {
          "base_uri": "https://localhost:8080/",
          "height": 303
        },
        "id": "okHJkffePV75",
        "outputId": "efa6ca36-a37f-457a-8ac7-8e4b43071106"
      },
      "execution_count": null,
      "outputs": [
        {
          "output_type": "display_data",
          "data": {
            "text/plain": [
              "<Figure size 432x288 with 1 Axes>"
            ],
            "image/png": "[encoded data removed]"
          },
          "metadata": {
            "needs_background": "light"
          }
        }
      ]
    },
    {
      "cell_type": "markdown",
      "source": [
        "# 8\n",
        "For this question, we are going to use only variable 40 of the dataset original (non-centered) X. Plot\n",
        "the dataset and the regression line fitted with the whole sample. Generate 50 bootstrap samples,\n",
        "for each of the samples fit a regression model and plot the 50 estimated regression lines in the same\n",
        "plot (by setting alpha=.4 in the plotting function you can make the lines more transparent for the\n",
        "sake of readability of the plot). Finally, in the same plot, plot the prediction intervals (see exercise\n",
        "12 in the lecture notes for the expression of the confidence intervals for the one dimensional case).\n",
        "\n",
        "**Answer:**\n"
      ],
      "metadata": {
        "id": "WD0aLJs3K_Zj"
      }
    },
    {
      "cell_type": "code",
      "source": [
        "X_40 = X[['V40']]\n",
        "\n",
        "OLS_40 = LinearRegression(fit_intercept = True)\n",
        "OLS_40.fit(X_40, y)\n",
        "y_pred_ols = OLS_40.predict(X_40)\n",
        "y_pred_ols\n",
        "\n",
        "plt.scatter(X_40, y)\n",
        "plt.plot(X_40.values, y_pred_ols)\n",
        "plt.title(\"Regression Line and samples\")\n",
        "plt.ylabel(\"features\")\n",
        "plt.xlabel(\"predictions\")\n",
        "plt.grid()\n",
        "plt.show()"
      ],
      "metadata": {
        "colab": {
          "base_uri": "https://localhost:8080/",
          "height": 295
        },
        "id": "VXToIxiBRo9P",
        "outputId": "6e88d691-5057-4472-9814-e0c6297d99b5"
      },
      "execution_count": null,
      "outputs": [
        {
          "output_type": "display_data",
          "data": {
            "text/plain": [
              "<Figure size 432x288 with 1 Axes>"
            ],
            "image/png": "[encoded data removed]"
          },
          "metadata": {
            "needs_background": "light"
          }
        }
      ]
    },
    {
      "cell_type": "code",
      "source": [
        "def PI(alpha, deg):\n",
        "  I = [1-alpha/2. , alpha/2.]\n",
        "  PI = t.ppf(I, deg)\n",
        "  return PI\n",
        "\n",
        "alpha = 0.95\n",
        "\n",
        "Xb_pi = np.array(X_40).reshape(-1,1)\n",
        "ybs = np.array(y)\n",
        "n,p = Xb_pi.reshape(-1,1).shape\n",
        "lr = LinearRegression(fit_intercept=True)\n",
        "\n",
        "alpha = 0.05\n",
        "\n",
        "y_pred = lr.fit(Xb_pi, ybs).predict(Xb_pi)\n",
        "sigma_hat = np.sqrt(np.sum((ybs-y_pred)**2)/(n-2))\n",
        "gama = (Xb_pi-(Xb_pi.mean())**2)/(np.sum((Xb_pi-(Xb_pi.mean()))**2))\n",
        "T = PI(alpha, n-2)\n",
        "PI = y_pred + T*sigma_hat*np.sqrt((1+(1/n)+gama))"
      ],
      "metadata": {
        "id": "4NcoLe4t9ODa"
      },
      "execution_count": null,
      "outputs": []
    },
    {
      "cell_type": "code",
      "source": [
        "y_pred_list = []\n",
        "n_bootstrap = 50\n",
        "for i in range(n_bootstrap):\n",
        "    bootstrap_sample = df.sample(n=len(df), replace=True)\n",
        "    yb = bootstrap_sample['fat']\n",
        "    Xb = bootstrap_sample[['V40']]\n",
        "    ols_model = LinearRegression(fit_intercept =True)\n",
        "    ols_model.fit(Xb, yb)\n",
        "    y_pred_ols = ols_model.predict(Xb)\n",
        "    plt.plot(Xb.values, y_pred_ols, alpha=.4)\n",
        "    y_pred_list.append(y_pred_ols)\n",
        "\n",
        "plt.scatter(X_40, y)\n",
        "plt.plot(X_40.values, PI, '--')\n",
        "plt.title(\"50 Bootstrap Regression lines and Prediction Interval\")\n",
        "plt.ylabel(\"features\")\n",
        "plt.xlabel(\"predictions\")\n",
        "plt.grid()\n",
        "plt.show()"
      ],
      "metadata": {
        "colab": {
          "base_uri": "https://localhost:8080/",
          "height": 295
        },
        "id": "kLEfnlfMcpfi",
        "outputId": "7d1ff00b-c25d-4598-90e7-80ebe0f9dbf7"
      },
      "execution_count": null,
      "outputs": [
        {
          "output_type": "display_data",
          "data": {
            "text/plain": [
              "<Figure size 432x288 with 1 Axes>"
            ],
            "image/png": "[encoded data removed]"
          },
          "metadata": {
            "needs_background": "light"
          }
        }
      ]
    },
    {
      "cell_type": "markdown",
      "source": [
        "# 9\n",
        "\n",
        "Compute the covariance matrix. Compute the singular value decomposition of the covariancematrix. For consistency in the notation use $ U,s,V = SVD(X^T X)$.\n",
        "\n",
        "**Answer:**\n"
      ],
      "metadata": {
        "id": "gtNOMJhUnGpT"
      }
    },
    {
      "cell_type": "code",
      "source": [
        "U, s, V = np.linalg.svd(X_train.T @ X_train)"
      ],
      "metadata": {
        "id": "n1P_3nrYxdfE"
      },
      "execution_count": null,
      "outputs": []
    },
    {
      "cell_type": "markdown",
      "source": [
        "## a)\n",
        "Plot a heatmap of the covariance matrix.\n",
        "\n",
        "**Answer:**"
      ],
      "metadata": {
        "id": "8eF_J_cAn7si"
      }
    },
    {
      "cell_type": "code",
      "source": [
        "cov_mat = np.cov(X_train.T)\n",
        "\n",
        "plt.figure(figsize=(8, 8))\n",
        "sns.heatmap(cov_mat, cmap=\"crest\", linewidths = .05, square=True, cbar=True)\n",
        "\n",
        "plt.plot([0, cov_mat.shape[0]], [0, cov_mat.shape[0]], 'b-', lw=1)\n",
        "\n",
        "plt.title('Covariance Matrix')\n",
        "plt.show()"
      ],
      "metadata": {
        "colab": {
          "base_uri": "https://localhost:8080/",
          "height": 466
        },
        "id": "yc1Flfyko839",
        "outputId": "94c2de4e-dd83-49ad-f845-2f845e28f28b"
      },
      "execution_count": null,
      "outputs": [
        {
          "output_type": "display_data",
          "data": {
            "text/plain": [
              "<Figure size 576x576 with 2 Axes>"
            ],
            "image/png": "[encoded data removed]"
          },
          "metadata": {
            "needs_background": "light"
          }
        }
      ]
    },
    {
      "cell_type": "markdown",
      "source": [
        "## b)\n",
        "In PCA we transform the data to a new coordinate system such that the greatest variance by some scalar projection of the data lies on the first coordinate (called the first principal component, PC1), the second greatest variance in the second PC and so on. The PCs are computed given the above SVD, as XU. Instead of using the whole transformation, XU.\n"
      ],
      "metadata": {
        "id": "PEVl6zvIoDi2"
      }
    },
    {
      "cell_type": "markdown",
      "source": [
        "## c)\n",
        "Plot the amount of variance explained by the first k components for k ∈ 2..p.\n",
        "\n",
        "**Answer:**"
      ],
      "metadata": {
        "id": "3Ail_svboW0u"
      }
    },
    {
      "cell_type": "code",
      "source": [
        "k = 5\n",
        "\n",
        "pca = PCA()\n",
        "pca.fit(X_train)\n",
        "\n",
        "variance_ratio = pca.explained_variance_ratio_[1:k]\n",
        "cum_sum_eigenvalues = np.cumsum(variance_ratio)\n",
        "\n",
        "legend_list = []\n",
        "for i in range(1, k):\n",
        "  legend_list.append(\"PC\"+str(i))\n",
        "\n",
        "# plot the variance ratios as a bar chart\n",
        "plt.bar(range(1,k), variance_ratio)\n",
        "plt.title(\"Amount of Variance Explained by the first $k$ components\")\n",
        "plt.xlabel('Principal Component')\n",
        "plt.ylabel('Explained Variance Ratio')\n",
        "plt.xticks(range(1,k), legend_list)\n",
        "plt.show()"
      ],
      "metadata": {
        "colab": {
          "base_uri": "https://localhost:8080/",
          "height": 297
        },
        "id": "7n5tgBC5qJzn",
        "outputId": "54be0f3d-3e1a-4acb-8988-f4e98772c6bd"
      },
      "execution_count": null,
      "outputs": [
        {
          "output_type": "display_data",
          "data": {
            "text/plain": [
              "<Figure size 432x288 with 1 Axes>"
            ],
            "image/png": "[encoded data removed]"
          },
          "metadata": {
            "needs_background": "light"
          }
        }
      ]
    },
    {
      "cell_type": "code",
      "source": [
        "print(\"Variance explained by PC0:\", pca.explained_variance_ratio_[0]*100, \"%\")\n",
        "print(\"Variance explained by PC1:\", pca.explained_variance_ratio_[1]*100, \"%\")"
      ],
      "metadata": {
        "colab": {
          "base_uri": "https://localhost:8080/"
        },
        "id": "SHlBkNkl8HgR",
        "outputId": "f2751df1-14ff-4e35-cc34-1b3740b8a226"
      },
      "execution_count": null,
      "outputs": [
        {
          "output_type": "stream",
          "name": "stdout",
          "text": [
            "Variance explained by PC0: 98.62619258180267 %\n",
            "Variance explained by PC1: 0.9697052286049943 %\n"
          ]
        }
      ]
    },
    {
      "cell_type": "markdown",
      "source": [
        "## d)\n",
        "We will use (as an approximation) the first 2 PCs. Plot the projected data using as color the value of y and interpret the plot.\n",
        "\n",
        "**Answer:**"
      ],
      "metadata": {
        "id": "yv9XlK95ol8M"
      }
    },
    {
      "cell_type": "markdown",
      "source": [
        "Principal Component Analysis (PCA) is a powerful technique for reducing the dimensionality of high-dimensional data by reorganizing resources based on their linear combinations. It is commonly used as a feature extraction method in machine learning and data analysis.\n",
        "\n",
        "One of the key characteristics of PCA is that the first principal component contains the majority of the information about the dataset, which represents the most important directions of variation in the data. The second principal component is more informative than the third, and so on.\n",
        "\n",
        "By analyzing the variance explained by each principal component, we can determine the most significant components for our analysis. For example, if the first two principal components explain a large percentage of the variance in the data, we may be able to reduce the dimensionality of the dataset by only considering these two components for our analysis.\n",
        "\n",
        "In some cases, removing the first few principal components may result in a significant loss of information. However, if we can retain a high percentage of the original variance in the data using only a small number of principal components, we can simplify the dataset while preserving the important information.\n",
        "\n",
        "It is important to note that PCA is just a tool for dimensionality reduction, and it may not always lead to better classification performance. In some cases, a more complex model such as a neural network may be necessary to achieve accurate classification."
      ],
      "metadata": {
        "id": "VstbSs4V7lQO"
      }
    },
    {
      "cell_type": "code",
      "source": [
        "scaler = StandardScaler()\n",
        "data_scaled = scaler.fit_transform(X)\n",
        "\n",
        "pca = PCA(n_components=2)\n",
        "data_transformed = pca.fit_transform(data_scaled)\n",
        "\n",
        "plot =plt.scatter(data_transformed[:,0], data_transformed[:,1], c=np.array(y))\n",
        "# plt.legend(handles=plot.legend_elements()[0],\n",
        "#            labels=list(y['fat']))\n",
        "plt.title(\"Projected data for the first 2 PCs\")\n",
        "plt.xlabel('PC0')\n",
        "plt.ylabel('PC1')\n",
        "plt.axhline(0, color='black', linestyle='--')\n",
        "plt.axvline(0, color='black', linestyle='--')\n",
        "plt.grid()\n",
        "plt.show()"
      ],
      "metadata": {
        "id": "PU7t7sD3o6Av",
        "colab": {
          "base_uri": "https://localhost:8080/",
          "height": 295
        },
        "outputId": "bb7d7096-21e5-4f3f-be40-d58d73ad624f"
      },
      "execution_count": null,
      "outputs": [
        {
          "output_type": "display_data",
          "data": {
            "text/plain": [
              "<Figure size 432x288 with 1 Axes>"
            ],
            "image/png": "[encoded data removed]"
          },
          "metadata": {
            "needs_background": "light"
          }
        }
      ]
    },
    {
      "cell_type": "markdown",
      "source": [
        "## e)\n",
        "Run OLS on the projected data using k components for k evenly spaced in 2..p. Store the best score in the dataFrame.\n",
        "\n",
        "\n",
        "**Answer:**"
      ],
      "metadata": {
        "id": "z0REAtGlotBc"
      }
    },
    {
      "cell_type": "code",
      "source": [],
      "metadata": {
        "id": "7-JsZ2THPVSA"
      },
      "execution_count": null,
      "outputs": []
    },
    {
      "cell_type": "markdown",
      "source": [
        "# 10\n",
        "Summarize the results of the models and elaborate in their main characteristics."
      ],
      "metadata": {
        "id": "1Wx0_mNuYfle"
      }
    },
    {
      "cell_type": "code",
      "source": [
        "df_coef"
      ],
      "metadata": {
        "colab": {
          "base_uri": "https://localhost:8080/",
          "height": 125
        },
        "id": "A91BNQqrFDMZ",
        "outputId": "204e433b-073d-4c1f-d271-fde1729df418"
      },
      "execution_count": null,
      "outputs": [
        {
          "output_type": "execute_result",
          "data": {
            "text/plain": [
              "          Preprocessed Data  p-value<0.05      SFS     Ridge     Lasso  \\\n",
              "R2 score           0.960055       0.95518  0.93873  0.976267  0.915196   \n",
              "\n",
              "          ElasticNet  \n",
              "R2 score     0.11788  "
            ],
            "text/html": [
              "\n",
              "  <div id=\"df-2953e9b9-dd85-42b9-b7c0-7cf6684a1df7\">\n",
              "    <div class=\"colab-df-container\">\n",
              "      <div>\n",
              "<style scoped>\n",
              "    .dataframe tbody tr th:only-of-type {\n",
              "        vertical-align: middle;\n",
              "    }\n",
              "\n",
              "    .dataframe tbody tr th {\n",
              "        vertical-align: top;\n",
              "    }\n",
              "\n",
              "    .dataframe thead th {\n",
              "        text-align: right;\n",
              "    }\n",
              "</style>\n",
              "<table border=\"1\" class=\"dataframe\">\n",
              "  <thead>\n",
              "    <tr style=\"text-align: right;\">\n",
              "      <th></th>\n",
              "      <th>Preprocessed Data</th>\n",
              "      <th>p-value&lt;0.05</th>\n",
              "      <th>SFS</th>\n",
              "      <th>Ridge</th>\n",
              "      <th>Lasso</th>\n",
              "      <th>ElasticNet</th>\n",
              "    </tr>\n",
              "  </thead>\n",
              "  <tbody>\n",
              "    <tr>\n",
              "      <th>R2 score</th>\n",
              "      <td>0.960055</td>\n",
              "      <td>0.95518</td>\n",
              "      <td>0.93873</td>\n",
              "      <td>0.976267</td>\n",
              "      <td>0.915196</td>\n",
              "      <td>0.11788</td>\n",
              "    </tr>\n",
              "  </tbody>\n",
              "</table>\n",
              "</div>\n",
              "      <button class=\"colab-df-convert\" onclick=\"convertToInteractive('df-2953e9b9-dd85-42b9-b7c0-7cf6684a1df7')\"\n",
              "              title=\"Convert this dataframe to an interactive table.\"\n",
              "              style=\"display:none;\">\n",
              "        \n",
              "  <svg xmlns=\"http://www.w3.org/2000/svg\" height=\"24px\"viewBox=\"0 0 24 24\"\n",
              "       width=\"24px\">\n",
              "    <path d=\"M0 0h24v24H0V0z\" fill=\"none\"/>\n",
              "    <path d=\"M18.56 5.44l.94 2.06.94-2.06 2.06-.94-2.06-.94-.94-2.06-.94 2.06-2.06.94zm-11 1L8.5 8.5l.94-2.06 2.06-.94-2.06-.94L8.5 2.5l-.94 2.06-2.06.94zm10 10l.94 2.06.94-2.06 2.06-.94-2.06-.94-.94-2.06-.94 2.06-2.06.94z\"/><path d=\"M17.41 7.96l-1.37-1.37c-.4-.4-.92-.59-1.43-.59-.52 0-1.04.2-1.43.59L10.3 9.45l-7.72 7.72c-.78.78-.78 2.05 0 2.83L4 21.41c.39.39.9.59 1.41.59.51 0 1.02-.2 1.41-.59l7.78-7.78 2.81-2.81c.8-.78.8-2.07 0-2.86zM5.41 20L4 18.59l7.72-7.72 1.47 1.35L5.41 20z\"/>\n",
              "  </svg>\n",
              "      </button>\n",
              "      \n",
              "  <style>\n",
              "    .colab-df-container {\n",
              "      display:flex;\n",
              "      flex-wrap:wrap;\n",
              "      gap: 12px;\n",
              "    }\n",
              "\n",
              "    .colab-df-convert {\n",
              "      background-color: #E8F0FE;\n",
              "      border: none;\n",
              "      border-radius: 50%;\n",
              "      cursor: pointer;\n",
              "      display: none;\n",
              "      fill: #1967D2;\n",
              "      height: 32px;\n",
              "      padding: 0 0 0 0;\n",
              "      width: 32px;\n",
              "    }\n",
              "\n",
              "    .colab-df-convert:hover {\n",
              "      background-color: #E2EBFA;\n",
              "      box-shadow: 0px 1px 2px rgba(60, 64, 67, 0.3), 0px 1px 3px 1px rgba(60, 64, 67, 0.15);\n",
              "      fill: #174EA6;\n",
              "    }\n",
              "\n",
              "    [theme=dark] .colab-df-convert {\n",
              "      background-color: #3B4455;\n",
              "      fill: #D2E3FC;\n",
              "    }\n",
              "\n",
              "    [theme=dark] .colab-df-convert:hover {\n",
              "      background-color: #434B5C;\n",
              "      box-shadow: 0px 1px 3px 1px rgba(0, 0, 0, 0.15);\n",
              "      filter: drop-shadow(0px 1px 2px rgba(0, 0, 0, 0.3));\n",
              "      fill: #FFFFFF;\n",
              "    }\n",
              "  </style>\n",
              "\n",
              "      <script>\n",
              "        const buttonEl =\n",
              "          document.querySelector('#df-2953e9b9-dd85-42b9-b7c0-7cf6684a1df7 button.colab-df-convert');\n",
              "        buttonEl.style.display =\n",
              "          google.colab.kernel.accessAllowed ? 'block' : 'none';\n",
              "\n",
              "        async function convertToInteractive(key) {\n",
              "          const element = document.querySelector('#df-2953e9b9-dd85-42b9-b7c0-7cf6684a1df7');\n",
              "          const dataTable =\n",
              "            await google.colab.kernel.invokeFunction('convertToInteractive',\n",
              "                                                     [key], {});\n",
              "          if (!dataTable) return;\n",
              "\n",
              "          const docLinkHtml = 'Like what you see? Visit the ' +\n",
              "            '<a target=\"_blank\" href=https://colab.research.google.com/notebooks/data_table.ipynb>data table notebook</a>'\n",
              "            + ' to learn more about interactive tables.';\n",
              "          element.innerHTML = '';\n",
              "          dataTable['output_type'] = 'display_data';\n",
              "          await google.colab.output.renderOutput(dataTable, element);\n",
              "          const docLink = document.createElement('div');\n",
              "          docLink.innerHTML = docLinkHtml;\n",
              "          element.appendChild(docLink);\n",
              "        }\n",
              "      </script>\n",
              "    </div>\n",
              "  </div>\n",
              "  "
            ]
          },
          "metadata": {},
          "execution_count": 207
        }
      ]
    },
    {
      "cell_type": "markdown",
      "source": [
        "The R2 scores above indicate that feature selection using the p-value criterion did not improve the model. The p-value measures evidence against the null hypothesis, which assumes that the relationship between a predictor variable and the response is not statistically significant. While a p-value less than 0.05 is often used as a threshold for accepting or rejecting the null hypothesis, it's important to note that this threshold is arbitrary and may not be appropriate for all datasets and research questions.\n",
        "\n",
        "The Ridge Regression model outperformed the OLS model, as evident from the higher R2 score. Ridge regression is particularly useful when the dataset suffers from multicollinearity, which occurs when there are high correlations among the predictor variables. The addition of a penalty term in Ridge regression reduces the impact of multicollinearity on the regression coefficients, leading to better prediction accuracy and generalization performance, especially when the number of predictors is large relative to the number of observations.\n",
        "\n",
        "However, the Lasso model performed worse compared to Ordinary Least Squares and Ridge. This could be due to the characteristics of the dataset. Lasso tends to perform better when there are only a few important predictors and many features in the dataset are irrelevant or redundant, leading to feature selection by driving some of the coefficients to exactly zero. Ridge, on the other hand, is more effective when there are many predictors with small to medium-sized effects that are correlated with each other. In cases where there are many predictors with small to medium-sized effects that are very correlated, Lasso may overly penalize some important predictors, resulting in poor performance. The PCA scores show that the variables in this model are highly correlated, making Ridge regression a better option.\n",
        "\n",
        "In contrast, Elastic Net performed poorly, and there could be multiple reasons for this, such as inadequate dataset size, imbalanced class distribution, and so on. It's important to be aware of the assumptions and limitations of each model and choose the appropriate one for the specific dataset and research question."
      ],
      "metadata": {
        "id": "Rxz_qmo4FVwP"
      }
    }
  ]
}